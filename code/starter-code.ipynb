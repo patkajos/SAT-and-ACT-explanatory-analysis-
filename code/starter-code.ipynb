{
 "cells": [
  {
   "cell_type": "markdown",
   "metadata": {},
   "source": [
    "# Project 1: SAT & ACT Analysis"
   ]
  },
  {
   "cell_type": "markdown",
   "metadata": {},
   "source": [
    "The first markdown cell in a notebook is a great place to provide an overview of your entire project. You will likely want to at least state your\n",
    "\n",
    "## Problem Statement"
   ]
  },
  {
   "cell_type": "markdown",
   "metadata": {},
   "source": [
    "as well as an"
   ]
  },
  {
   "cell_type": "markdown",
   "metadata": {},
   "source": [
    "## Executive Summary\n",
    "\n",
    "If you want to, it's great to use relative links to direct your audience to various sections of a notebook. **HERE'S A DEMONSTRATION WITH THE CURRENT SECTION HEADERS**:\n",
    "\n",
    "### Contents:\n",
    "- [2017 Data Import & Cleaning](#Data-Import-and-Cleaning)\n",
    "- [2018 Data Import and Cleaning](#2018-Data-Import-and-Cleaning)\n",
    "- [Exploratory Data Analysis](#Exploratory-Data-Analysis)\n",
    "- [Data Visualization](#Visualize-the-data)\n",
    "- [Descriptive and Inferential Statistics](#Descriptive-and-Inferential-Statistics)\n",
    "- [Outside Research](#Outside-Research)\n",
    "- [Conclusions and Recommendations](#Conclusions-and-Recommendations)"
   ]
  },
  {
   "cell_type": "markdown",
   "metadata": {},
   "source": [
    "**If you combine your problem statement, executive summary, data dictionary, and conclusions/recommendations, you have an amazing README.md file that quickly aligns your audience to the contents of your project.** Don't forget to cite your data sources!"
   ]
  },
  {
   "cell_type": "markdown",
   "metadata": {},
   "source": [
    "*All libraries used should be added here*"
   ]
  },
  {
   "cell_type": "code",
   "execution_count": 141,
   "metadata": {},
   "outputs": [],
   "source": [
    "#Imports:\n",
    "import numpy as np\n",
    "import seaborn as sns\n",
    "import matplotlib.pyplot as plt\n",
    "import pandas as pd\n",
    "%matplotlib inline"
   ]
  },
  {
   "cell_type": "markdown",
   "metadata": {},
   "source": [
    "## 2017 Data Import and Cleaning"
   ]
  },
  {
   "cell_type": "markdown",
   "metadata": {},
   "source": [
    "#### 1. Read In SAT & ACT  Data\n",
    "\n",
    "Read in the `sat_2017.csv` and `act_2017.csv` files and assign them to appropriately named pandas dataframes."
   ]
  },
  {
   "cell_type": "code",
   "execution_count": 142,
   "metadata": {},
   "outputs": [
    {
     "data": {
      "text/html": [
       "<div>\n",
       "<style scoped>\n",
       "    .dataframe tbody tr th:only-of-type {\n",
       "        vertical-align: middle;\n",
       "    }\n",
       "\n",
       "    .dataframe tbody tr th {\n",
       "        vertical-align: top;\n",
       "    }\n",
       "\n",
       "    .dataframe thead th {\n",
       "        text-align: right;\n",
       "    }\n",
       "</style>\n",
       "<table border=\"1\" class=\"dataframe\">\n",
       "  <thead>\n",
       "    <tr style=\"text-align: right;\">\n",
       "      <th></th>\n",
       "      <th>State</th>\n",
       "      <th>Participation</th>\n",
       "      <th>Evidence-Based Reading and Writing</th>\n",
       "      <th>Math</th>\n",
       "      <th>Total</th>\n",
       "    </tr>\n",
       "  </thead>\n",
       "  <tbody>\n",
       "    <tr>\n",
       "      <td>0</td>\n",
       "      <td>Alabama</td>\n",
       "      <td>5%</td>\n",
       "      <td>593</td>\n",
       "      <td>572</td>\n",
       "      <td>1165</td>\n",
       "    </tr>\n",
       "    <tr>\n",
       "      <td>1</td>\n",
       "      <td>Alaska</td>\n",
       "      <td>38%</td>\n",
       "      <td>547</td>\n",
       "      <td>533</td>\n",
       "      <td>1080</td>\n",
       "    </tr>\n",
       "    <tr>\n",
       "      <td>2</td>\n",
       "      <td>Arizona</td>\n",
       "      <td>30%</td>\n",
       "      <td>563</td>\n",
       "      <td>553</td>\n",
       "      <td>1116</td>\n",
       "    </tr>\n",
       "    <tr>\n",
       "      <td>3</td>\n",
       "      <td>Arkansas</td>\n",
       "      <td>3%</td>\n",
       "      <td>614</td>\n",
       "      <td>594</td>\n",
       "      <td>1208</td>\n",
       "    </tr>\n",
       "    <tr>\n",
       "      <td>4</td>\n",
       "      <td>California</td>\n",
       "      <td>53%</td>\n",
       "      <td>531</td>\n",
       "      <td>524</td>\n",
       "      <td>1055</td>\n",
       "    </tr>\n",
       "    <tr>\n",
       "      <td>5</td>\n",
       "      <td>Colorado</td>\n",
       "      <td>11%</td>\n",
       "      <td>606</td>\n",
       "      <td>595</td>\n",
       "      <td>1201</td>\n",
       "    </tr>\n",
       "    <tr>\n",
       "      <td>6</td>\n",
       "      <td>Connecticut</td>\n",
       "      <td>100%</td>\n",
       "      <td>530</td>\n",
       "      <td>512</td>\n",
       "      <td>1041</td>\n",
       "    </tr>\n",
       "    <tr>\n",
       "      <td>7</td>\n",
       "      <td>Delaware</td>\n",
       "      <td>100%</td>\n",
       "      <td>503</td>\n",
       "      <td>492</td>\n",
       "      <td>996</td>\n",
       "    </tr>\n",
       "    <tr>\n",
       "      <td>8</td>\n",
       "      <td>District of Columbia</td>\n",
       "      <td>100%</td>\n",
       "      <td>482</td>\n",
       "      <td>468</td>\n",
       "      <td>950</td>\n",
       "    </tr>\n",
       "    <tr>\n",
       "      <td>9</td>\n",
       "      <td>Florida</td>\n",
       "      <td>83%</td>\n",
       "      <td>520</td>\n",
       "      <td>497</td>\n",
       "      <td>1017</td>\n",
       "    </tr>\n",
       "  </tbody>\n",
       "</table>\n",
       "</div>"
      ],
      "text/plain": [
       "                  State Participation  Evidence-Based Reading and Writing  \\\n",
       "0               Alabama            5%                                 593   \n",
       "1                Alaska           38%                                 547   \n",
       "2               Arizona           30%                                 563   \n",
       "3              Arkansas            3%                                 614   \n",
       "4            California           53%                                 531   \n",
       "5              Colorado           11%                                 606   \n",
       "6           Connecticut          100%                                 530   \n",
       "7              Delaware          100%                                 503   \n",
       "8  District of Columbia          100%                                 482   \n",
       "9               Florida           83%                                 520   \n",
       "\n",
       "   Math  Total  \n",
       "0   572   1165  \n",
       "1   533   1080  \n",
       "2   553   1116  \n",
       "3   594   1208  \n",
       "4   524   1055  \n",
       "5   595   1201  \n",
       "6   512   1041  \n",
       "7   492    996  \n",
       "8   468    950  \n",
       "9   497   1017  "
      ]
     },
     "execution_count": 142,
     "metadata": {},
     "output_type": "execute_result"
    }
   ],
   "source": [
    "#Code:\n",
    "df_sat_2017 = pd.read_csv('../data/sat_2017.csv')\n",
    "df_sat_2017.head(10)"
   ]
  },
  {
   "cell_type": "code",
   "execution_count": 143,
   "metadata": {},
   "outputs": [
    {
     "data": {
      "text/plain": [
       "27929"
      ]
     },
     "execution_count": 143,
     "metadata": {},
     "output_type": "execute_result"
    }
   ],
   "source": [
    "r=np.sum(df_sat_2017['Math'])\n",
    "r"
   ]
  },
  {
   "cell_type": "code",
   "execution_count": 144,
   "metadata": {},
   "outputs": [
    {
     "data": {
      "text/plain": [
       "State                                 object\n",
       "Participation                         object\n",
       "Evidence-Based Reading and Writing     int64\n",
       "Math                                   int64\n",
       "Total                                  int64\n",
       "dtype: object"
      ]
     },
     "execution_count": 144,
     "metadata": {},
     "output_type": "execute_result"
    }
   ],
   "source": [
    "df_sat_2017.dtypes"
   ]
  },
  {
   "cell_type": "code",
   "execution_count": 145,
   "metadata": {},
   "outputs": [
    {
     "data": {
      "text/html": [
       "<div>\n",
       "<style scoped>\n",
       "    .dataframe tbody tr th:only-of-type {\n",
       "        vertical-align: middle;\n",
       "    }\n",
       "\n",
       "    .dataframe tbody tr th {\n",
       "        vertical-align: top;\n",
       "    }\n",
       "\n",
       "    .dataframe thead th {\n",
       "        text-align: right;\n",
       "    }\n",
       "</style>\n",
       "<table border=\"1\" class=\"dataframe\">\n",
       "  <thead>\n",
       "    <tr style=\"text-align: right;\">\n",
       "      <th></th>\n",
       "      <th>State</th>\n",
       "      <th>Participation</th>\n",
       "      <th>English</th>\n",
       "      <th>Math</th>\n",
       "      <th>Reading</th>\n",
       "      <th>Science</th>\n",
       "      <th>Composite</th>\n",
       "    </tr>\n",
       "  </thead>\n",
       "  <tbody>\n",
       "    <tr>\n",
       "      <td>0</td>\n",
       "      <td>National</td>\n",
       "      <td>60%</td>\n",
       "      <td>20.3</td>\n",
       "      <td>20.7</td>\n",
       "      <td>21.4</td>\n",
       "      <td>21.0</td>\n",
       "      <td>21.0</td>\n",
       "    </tr>\n",
       "    <tr>\n",
       "      <td>1</td>\n",
       "      <td>Alabama</td>\n",
       "      <td>100%</td>\n",
       "      <td>18.9</td>\n",
       "      <td>18.4</td>\n",
       "      <td>19.7</td>\n",
       "      <td>19.4</td>\n",
       "      <td>19.2</td>\n",
       "    </tr>\n",
       "    <tr>\n",
       "      <td>2</td>\n",
       "      <td>Alaska</td>\n",
       "      <td>65%</td>\n",
       "      <td>18.7</td>\n",
       "      <td>19.8</td>\n",
       "      <td>20.4</td>\n",
       "      <td>19.9</td>\n",
       "      <td>19.8</td>\n",
       "    </tr>\n",
       "    <tr>\n",
       "      <td>3</td>\n",
       "      <td>Arizona</td>\n",
       "      <td>62%</td>\n",
       "      <td>18.6</td>\n",
       "      <td>19.8</td>\n",
       "      <td>20.1</td>\n",
       "      <td>19.8</td>\n",
       "      <td>19.7</td>\n",
       "    </tr>\n",
       "    <tr>\n",
       "      <td>4</td>\n",
       "      <td>Arkansas</td>\n",
       "      <td>100%</td>\n",
       "      <td>18.9</td>\n",
       "      <td>19.0</td>\n",
       "      <td>19.7</td>\n",
       "      <td>19.5</td>\n",
       "      <td>19.4</td>\n",
       "    </tr>\n",
       "    <tr>\n",
       "      <td>5</td>\n",
       "      <td>California</td>\n",
       "      <td>31%</td>\n",
       "      <td>22.5</td>\n",
       "      <td>22.7</td>\n",
       "      <td>23.1</td>\n",
       "      <td>22.2</td>\n",
       "      <td>22.8</td>\n",
       "    </tr>\n",
       "    <tr>\n",
       "      <td>6</td>\n",
       "      <td>Colorado</td>\n",
       "      <td>100%</td>\n",
       "      <td>20.1</td>\n",
       "      <td>20.3</td>\n",
       "      <td>21.2</td>\n",
       "      <td>20.9</td>\n",
       "      <td>20.8</td>\n",
       "    </tr>\n",
       "    <tr>\n",
       "      <td>7</td>\n",
       "      <td>Connecticut</td>\n",
       "      <td>31%</td>\n",
       "      <td>25.5</td>\n",
       "      <td>24.6</td>\n",
       "      <td>25.6</td>\n",
       "      <td>24.6</td>\n",
       "      <td>25.2</td>\n",
       "    </tr>\n",
       "    <tr>\n",
       "      <td>8</td>\n",
       "      <td>Delaware</td>\n",
       "      <td>18%</td>\n",
       "      <td>24.1</td>\n",
       "      <td>23.4</td>\n",
       "      <td>24.8</td>\n",
       "      <td>23.6</td>\n",
       "      <td>24.1</td>\n",
       "    </tr>\n",
       "    <tr>\n",
       "      <td>9</td>\n",
       "      <td>District of Columbia</td>\n",
       "      <td>32%</td>\n",
       "      <td>24.4</td>\n",
       "      <td>23.5</td>\n",
       "      <td>24.9</td>\n",
       "      <td>23.5</td>\n",
       "      <td>24.2</td>\n",
       "    </tr>\n",
       "  </tbody>\n",
       "</table>\n",
       "</div>"
      ],
      "text/plain": [
       "                  State Participation  English  Math  Reading  Science  \\\n",
       "0              National           60%     20.3  20.7     21.4     21.0   \n",
       "1               Alabama          100%     18.9  18.4     19.7     19.4   \n",
       "2                Alaska           65%     18.7  19.8     20.4     19.9   \n",
       "3               Arizona           62%     18.6  19.8     20.1     19.8   \n",
       "4              Arkansas          100%     18.9  19.0     19.7     19.5   \n",
       "5            California           31%     22.5  22.7     23.1     22.2   \n",
       "6              Colorado          100%     20.1  20.3     21.2     20.9   \n",
       "7           Connecticut           31%     25.5  24.6     25.6     24.6   \n",
       "8              Delaware           18%     24.1  23.4     24.8     23.6   \n",
       "9  District of Columbia           32%     24.4  23.5     24.9     23.5   \n",
       "\n",
       "  Composite  \n",
       "0      21.0  \n",
       "1      19.2  \n",
       "2      19.8  \n",
       "3      19.7  \n",
       "4      19.4  \n",
       "5      22.8  \n",
       "6      20.8  \n",
       "7      25.2  \n",
       "8      24.1  \n",
       "9      24.2  "
      ]
     },
     "execution_count": 145,
     "metadata": {},
     "output_type": "execute_result"
    }
   ],
   "source": [
    "df_act_2017 = pd.read_csv('../data/act_2017.csv')\n",
    "df_act_2017.head(10)"
   ]
  },
  {
   "cell_type": "code",
   "execution_count": null,
   "metadata": {},
   "outputs": [],
   "source": []
  },
  {
   "cell_type": "markdown",
   "metadata": {},
   "source": [
    "#### 2. Display Data\n",
    "\n",
    "Print the first 10 rows of each dataframe to your jupyter notebook"
   ]
  },
  {
   "cell_type": "code",
   "execution_count": 146,
   "metadata": {},
   "outputs": [
    {
     "data": {
      "text/html": [
       "<div>\n",
       "<style scoped>\n",
       "    .dataframe tbody tr th:only-of-type {\n",
       "        vertical-align: middle;\n",
       "    }\n",
       "\n",
       "    .dataframe tbody tr th {\n",
       "        vertical-align: top;\n",
       "    }\n",
       "\n",
       "    .dataframe thead th {\n",
       "        text-align: right;\n",
       "    }\n",
       "</style>\n",
       "<table border=\"1\" class=\"dataframe\">\n",
       "  <thead>\n",
       "    <tr style=\"text-align: right;\">\n",
       "      <th></th>\n",
       "      <th>State</th>\n",
       "      <th>Participation</th>\n",
       "      <th>English</th>\n",
       "      <th>Math</th>\n",
       "      <th>Reading</th>\n",
       "      <th>Science</th>\n",
       "      <th>Composite</th>\n",
       "    </tr>\n",
       "  </thead>\n",
       "  <tbody>\n",
       "    <tr>\n",
       "      <td>0</td>\n",
       "      <td>National</td>\n",
       "      <td>60%</td>\n",
       "      <td>20.3</td>\n",
       "      <td>20.7</td>\n",
       "      <td>21.4</td>\n",
       "      <td>21.0</td>\n",
       "      <td>21.0</td>\n",
       "    </tr>\n",
       "    <tr>\n",
       "      <td>1</td>\n",
       "      <td>Alabama</td>\n",
       "      <td>100%</td>\n",
       "      <td>18.9</td>\n",
       "      <td>18.4</td>\n",
       "      <td>19.7</td>\n",
       "      <td>19.4</td>\n",
       "      <td>19.2</td>\n",
       "    </tr>\n",
       "  </tbody>\n",
       "</table>\n",
       "</div>"
      ],
      "text/plain": [
       "      State Participation  English  Math  Reading  Science Composite\n",
       "0  National           60%     20.3  20.7     21.4     21.0      21.0\n",
       "1   Alabama          100%     18.9  18.4     19.7     19.4      19.2"
      ]
     },
     "execution_count": 146,
     "metadata": {},
     "output_type": "execute_result"
    }
   ],
   "source": [
    "df_act_2017.head(2)"
   ]
  },
  {
   "cell_type": "code",
   "execution_count": 147,
   "metadata": {},
   "outputs": [
    {
     "data": {
      "text/html": [
       "<div>\n",
       "<style scoped>\n",
       "    .dataframe tbody tr th:only-of-type {\n",
       "        vertical-align: middle;\n",
       "    }\n",
       "\n",
       "    .dataframe tbody tr th {\n",
       "        vertical-align: top;\n",
       "    }\n",
       "\n",
       "    .dataframe thead th {\n",
       "        text-align: right;\n",
       "    }\n",
       "</style>\n",
       "<table border=\"1\" class=\"dataframe\">\n",
       "  <thead>\n",
       "    <tr style=\"text-align: right;\">\n",
       "      <th></th>\n",
       "      <th>State</th>\n",
       "      <th>Participation</th>\n",
       "      <th>English</th>\n",
       "      <th>Math</th>\n",
       "      <th>Reading</th>\n",
       "      <th>Science</th>\n",
       "      <th>Composite</th>\n",
       "    </tr>\n",
       "  </thead>\n",
       "  <tbody>\n",
       "    <tr>\n",
       "      <td>0</td>\n",
       "      <td>National</td>\n",
       "      <td>60%</td>\n",
       "      <td>20.3</td>\n",
       "      <td>20.7</td>\n",
       "      <td>21.4</td>\n",
       "      <td>21.0</td>\n",
       "      <td>21.0</td>\n",
       "    </tr>\n",
       "    <tr>\n",
       "      <td>1</td>\n",
       "      <td>Alabama</td>\n",
       "      <td>100%</td>\n",
       "      <td>18.9</td>\n",
       "      <td>18.4</td>\n",
       "      <td>19.7</td>\n",
       "      <td>19.4</td>\n",
       "      <td>19.2</td>\n",
       "    </tr>\n",
       "  </tbody>\n",
       "</table>\n",
       "</div>"
      ],
      "text/plain": [
       "      State Participation  English  Math  Reading  Science Composite\n",
       "0  National           60%     20.3  20.7     21.4     21.0      21.0\n",
       "1   Alabama          100%     18.9  18.4     19.7     19.4      19.2"
      ]
     },
     "execution_count": 147,
     "metadata": {},
     "output_type": "execute_result"
    }
   ],
   "source": [
    "df_act_2017.head(2)"
   ]
  },
  {
   "cell_type": "code",
   "execution_count": 148,
   "metadata": {},
   "outputs": [
    {
     "data": {
      "text/html": [
       "<div>\n",
       "<style scoped>\n",
       "    .dataframe tbody tr th:only-of-type {\n",
       "        vertical-align: middle;\n",
       "    }\n",
       "\n",
       "    .dataframe tbody tr th {\n",
       "        vertical-align: top;\n",
       "    }\n",
       "\n",
       "    .dataframe thead th {\n",
       "        text-align: right;\n",
       "    }\n",
       "</style>\n",
       "<table border=\"1\" class=\"dataframe\">\n",
       "  <thead>\n",
       "    <tr style=\"text-align: right;\">\n",
       "      <th></th>\n",
       "      <th>State</th>\n",
       "      <th>Participation</th>\n",
       "      <th>English</th>\n",
       "      <th>Math</th>\n",
       "      <th>Reading</th>\n",
       "      <th>Science</th>\n",
       "      <th>Composite</th>\n",
       "    </tr>\n",
       "  </thead>\n",
       "  <tbody>\n",
       "    <tr>\n",
       "      <td>50</td>\n",
       "      <td>Wisconsin</td>\n",
       "      <td>100%</td>\n",
       "      <td>19.7</td>\n",
       "      <td>20.4</td>\n",
       "      <td>20.6</td>\n",
       "      <td>20.9</td>\n",
       "      <td>20.5</td>\n",
       "    </tr>\n",
       "    <tr>\n",
       "      <td>51</td>\n",
       "      <td>Wyoming</td>\n",
       "      <td>100%</td>\n",
       "      <td>19.4</td>\n",
       "      <td>19.8</td>\n",
       "      <td>20.8</td>\n",
       "      <td>20.6</td>\n",
       "      <td>20.2x</td>\n",
       "    </tr>\n",
       "  </tbody>\n",
       "</table>\n",
       "</div>"
      ],
      "text/plain": [
       "        State Participation  English  Math  Reading  Science Composite\n",
       "50  Wisconsin          100%     19.7  20.4     20.6     20.9      20.5\n",
       "51    Wyoming          100%     19.4  19.8     20.8     20.6     20.2x"
      ]
     },
     "execution_count": 148,
     "metadata": {},
     "output_type": "execute_result"
    }
   ],
   "source": [
    "#Code:\n",
    "df_act_2017.tail(2)"
   ]
  },
  {
   "cell_type": "markdown",
   "metadata": {},
   "source": [
    "## 3. Verbally Describe Data\n",
    "\n",
    "Take your time looking through the data and thoroughly describe the data in the markdown cell below. "
   ]
  },
  {
   "cell_type": "code",
   "execution_count": 149,
   "metadata": {},
   "outputs": [
    {
     "data": {
      "text/plain": [
       "(52, 7)"
      ]
     },
     "execution_count": 149,
     "metadata": {},
     "output_type": "execute_result"
    }
   ],
   "source": [
    "df_act_2017.shape "
   ]
  },
  {
   "cell_type": "markdown",
   "metadata": {},
   "source": [
    "### WE are dealing wih numerical and categorical datasets collected for 2017 and 2018 year. the dataset present some irregularities relatited to unmatching data type in the  same serie of data frame "
   ]
  },
  {
   "cell_type": "markdown",
   "metadata": {},
   "source": [
    "#### 4a. Does the data look complete? "
   ]
  },
  {
   "cell_type": "markdown",
   "metadata": {},
   "source": [
    "## yes the data look complete "
   ]
  },
  {
   "cell_type": "markdown",
   "metadata": {},
   "source": [
    "#### 4b. Are there any obvious issues with the observations?\n",
    "\n",
    "**What is the minimum *possible* value for each test/subtest? What is the maximum *possible* value?**\n",
    "\n",
    "Consider comparing any questionable values to the sources of your data:\n",
    "- [SAT](https://blog.collegevine.com/here-are-the-average-sat-scores-by-state/)\n",
    "- [ACT](https://blog.prepscholar.com/act-scores-by-state-averages-highs-and-lows)"
   ]
  },
  {
   "cell_type": "markdown",
   "metadata": {},
   "source": [
    "Answer:"
   ]
  },
  {
   "cell_type": "markdown",
   "metadata": {},
   "source": [
    "#### 4c. Fix any errors you identified\n",
    "\n",
    "**The data is available** so there's no need to guess or calculate anything. If you didn't find any errors, continue to the next step."
   ]
  },
  {
   "cell_type": "markdown",
   "metadata": {},
   "source": [
    "#### 5. What are your data types? \n",
    "Display the data types of each feature. "
   ]
  },
  {
   "cell_type": "code",
   "execution_count": 151,
   "metadata": {},
   "outputs": [
    {
     "data": {
      "text/plain": [
       "State             object\n",
       "Participation     object\n",
       "English          float64\n",
       "Math             float64\n",
       "Reading          float64\n",
       "Science          float64\n",
       "Composite         object\n",
       "dtype: object"
      ]
     },
     "execution_count": 151,
     "metadata": {},
     "output_type": "execute_result"
    }
   ],
   "source": [
    "#code\n",
    "df_act_2017.dtypes"
   ]
  },
  {
   "cell_type": "code",
   "execution_count": 152,
   "metadata": {},
   "outputs": [
    {
     "data": {
      "text/plain": [
       "State                                 object\n",
       "Participation                         object\n",
       "Evidence-Based Reading and Writing     int64\n",
       "Math                                   int64\n",
       "Total                                  int64\n",
       "dtype: object"
      ]
     },
     "execution_count": 152,
     "metadata": {},
     "output_type": "execute_result"
    }
   ],
   "source": [
    "df_sat_2017.dtypes"
   ]
  },
  {
   "cell_type": "markdown",
   "metadata": {},
   "source": [
    "What did you learn?\n",
    "- Do any of them seem odd?  \n",
    "- Which ones are not as they should be?  "
   ]
  },
  {
   "cell_type": "markdown",
   "metadata": {},
   "source": [
    "### Answer: yes, someof the index some to be unmatched "
   ]
  },
  {
   "cell_type": "markdown",
   "metadata": {},
   "source": [
    "#### 6. Fix Incorrect Data Types\n",
    "Based on what you discovered above, use appropriate methods to re-type incorrectly typed data.\n",
    "- Define a function that will allow you to convert participation rates to an appropriate numeric type. Use `map` or `apply` to change these columns in each dataframe."
   ]
  },
  {
   "cell_type": "code",
   "execution_count": 153,
   "metadata": {},
   "outputs": [
    {
     "data": {
      "text/html": [
       "<div>\n",
       "<style scoped>\n",
       "    .dataframe tbody tr th:only-of-type {\n",
       "        vertical-align: middle;\n",
       "    }\n",
       "\n",
       "    .dataframe tbody tr th {\n",
       "        vertical-align: top;\n",
       "    }\n",
       "\n",
       "    .dataframe thead th {\n",
       "        text-align: right;\n",
       "    }\n",
       "</style>\n",
       "<table border=\"1\" class=\"dataframe\">\n",
       "  <thead>\n",
       "    <tr style=\"text-align: right;\">\n",
       "      <th></th>\n",
       "      <th>State</th>\n",
       "      <th>Participation</th>\n",
       "      <th>Evidence-Based Reading and Writing</th>\n",
       "      <th>Math</th>\n",
       "      <th>Total</th>\n",
       "    </tr>\n",
       "  </thead>\n",
       "  <tbody>\n",
       "    <tr>\n",
       "      <td>48</td>\n",
       "      <td>West Virginia</td>\n",
       "      <td>14%</td>\n",
       "      <td>558</td>\n",
       "      <td>528</td>\n",
       "      <td>1086</td>\n",
       "    </tr>\n",
       "    <tr>\n",
       "      <td>49</td>\n",
       "      <td>Wisconsin</td>\n",
       "      <td>3%</td>\n",
       "      <td>642</td>\n",
       "      <td>649</td>\n",
       "      <td>1291</td>\n",
       "    </tr>\n",
       "    <tr>\n",
       "      <td>50</td>\n",
       "      <td>Wyoming</td>\n",
       "      <td>3%</td>\n",
       "      <td>626</td>\n",
       "      <td>604</td>\n",
       "      <td>1230</td>\n",
       "    </tr>\n",
       "  </tbody>\n",
       "</table>\n",
       "</div>"
      ],
      "text/plain": [
       "            State Participation  Evidence-Based Reading and Writing  Math  \\\n",
       "48  West Virginia           14%                                 558   528   \n",
       "49      Wisconsin            3%                                 642   649   \n",
       "50        Wyoming            3%                                 626   604   \n",
       "\n",
       "    Total  \n",
       "48   1086  \n",
       "49   1291  \n",
       "50   1230  "
      ]
     },
     "execution_count": 153,
     "metadata": {},
     "output_type": "execute_result"
    }
   ],
   "source": [
    "df_sat_2017.tail(3)"
   ]
  },
  {
   "cell_type": "code",
   "execution_count": 154,
   "metadata": {},
   "outputs": [
    {
     "data": {
      "text/plain": [
       "48    0.14\n",
       "49    0.03\n",
       "50    0.03\n",
       "Name: Participation, dtype: float64"
      ]
     },
     "execution_count": 154,
     "metadata": {},
     "output_type": "execute_result"
    }
   ],
   "source": [
    "def convert_data(val):\n",
    "    new_val=val.replace(\"%\",\" \")\n",
    "    return (float(new_val))/100\n",
    "\n",
    "df_sat_2017['Participation']=df_sat_2017['Participation'].astype(str).map(convert_data)\n",
    "df_sat_2017['Participation'].tail(3)"
   ]
  },
  {
   "cell_type": "code",
   "execution_count": 155,
   "metadata": {},
   "outputs": [
    {
     "data": {
      "text/plain": [
       "0    0.60\n",
       "1    1.00\n",
       "2    0.65\n",
       "Name: Participation, dtype: float64"
      ]
     },
     "execution_count": 155,
     "metadata": {},
     "output_type": "execute_result"
    }
   ],
   "source": [
    "#code\n",
    "def convert_data(val):\n",
    "    \n",
    "    new_val=val.replace(\"%\",\" \")\n",
    "    return (float(new_val))/100\n",
    "\n",
    "df_act_2017['Participation']=df_act_2017['Participation'].astype(str).map(convert_data)\n",
    "df_act_2017['Participation'].head(3)"
   ]
  },
  {
   "cell_type": "code",
   "execution_count": 156,
   "metadata": {},
   "outputs": [
    {
     "data": {
      "text/html": [
       "<div>\n",
       "<style scoped>\n",
       "    .dataframe tbody tr th:only-of-type {\n",
       "        vertical-align: middle;\n",
       "    }\n",
       "\n",
       "    .dataframe tbody tr th {\n",
       "        vertical-align: top;\n",
       "    }\n",
       "\n",
       "    .dataframe thead th {\n",
       "        text-align: right;\n",
       "    }\n",
       "</style>\n",
       "<table border=\"1\" class=\"dataframe\">\n",
       "  <thead>\n",
       "    <tr style=\"text-align: right;\">\n",
       "      <th></th>\n",
       "      <th>State</th>\n",
       "      <th>Participation</th>\n",
       "      <th>English</th>\n",
       "      <th>Math</th>\n",
       "      <th>Reading</th>\n",
       "      <th>Science</th>\n",
       "      <th>Composite</th>\n",
       "    </tr>\n",
       "  </thead>\n",
       "  <tbody>\n",
       "    <tr>\n",
       "      <td>0</td>\n",
       "      <td>National</td>\n",
       "      <td>0.6</td>\n",
       "      <td>20.3</td>\n",
       "      <td>20.7</td>\n",
       "      <td>21.4</td>\n",
       "      <td>21.0</td>\n",
       "      <td>21.0</td>\n",
       "    </tr>\n",
       "    <tr>\n",
       "      <td>1</td>\n",
       "      <td>Alabama</td>\n",
       "      <td>1.0</td>\n",
       "      <td>18.9</td>\n",
       "      <td>18.4</td>\n",
       "      <td>19.7</td>\n",
       "      <td>19.4</td>\n",
       "      <td>19.2</td>\n",
       "    </tr>\n",
       "  </tbody>\n",
       "</table>\n",
       "</div>"
      ],
      "text/plain": [
       "      State  Participation  English  Math  Reading  Science Composite\n",
       "0  National            0.6     20.3  20.7     21.4     21.0      21.0\n",
       "1   Alabama            1.0     18.9  18.4     19.7     19.4      19.2"
      ]
     },
     "execution_count": 156,
     "metadata": {},
     "output_type": "execute_result"
    }
   ],
   "source": [
    "df_act_2017.head(2)"
   ]
  },
  {
   "cell_type": "code",
   "execution_count": 157,
   "metadata": {},
   "outputs": [
    {
     "data": {
      "text/html": [
       "<div>\n",
       "<style scoped>\n",
       "    .dataframe tbody tr th:only-of-type {\n",
       "        vertical-align: middle;\n",
       "    }\n",
       "\n",
       "    .dataframe tbody tr th {\n",
       "        vertical-align: top;\n",
       "    }\n",
       "\n",
       "    .dataframe thead th {\n",
       "        text-align: right;\n",
       "    }\n",
       "</style>\n",
       "<table border=\"1\" class=\"dataframe\">\n",
       "  <thead>\n",
       "    <tr style=\"text-align: right;\">\n",
       "      <th></th>\n",
       "      <th>State</th>\n",
       "      <th>Participation</th>\n",
       "    </tr>\n",
       "  </thead>\n",
       "  <tbody>\n",
       "    <tr>\n",
       "      <td>0</td>\n",
       "      <td>National</td>\n",
       "      <td>0.60</td>\n",
       "    </tr>\n",
       "    <tr>\n",
       "      <td>1</td>\n",
       "      <td>Alabama</td>\n",
       "      <td>1.00</td>\n",
       "    </tr>\n",
       "    <tr>\n",
       "      <td>2</td>\n",
       "      <td>Alaska</td>\n",
       "      <td>0.65</td>\n",
       "    </tr>\n",
       "    <tr>\n",
       "      <td>3</td>\n",
       "      <td>Arizona</td>\n",
       "      <td>0.62</td>\n",
       "    </tr>\n",
       "    <tr>\n",
       "      <td>4</td>\n",
       "      <td>Arkansas</td>\n",
       "      <td>1.00</td>\n",
       "    </tr>\n",
       "  </tbody>\n",
       "</table>\n",
       "</div>"
      ],
      "text/plain": [
       "      State  Participation\n",
       "0  National           0.60\n",
       "1   Alabama           1.00\n",
       "2    Alaska           0.65\n",
       "3   Arizona           0.62\n",
       "4  Arkansas           1.00"
      ]
     },
     "execution_count": 157,
     "metadata": {},
     "output_type": "execute_result"
    }
   ],
   "source": [
    "df_act_2017[['State','Participation']].head()\n"
   ]
  },
  {
   "cell_type": "markdown",
   "metadata": {},
   "source": [
    "- Fix any individual values preventing other columns from being the appropriate type."
   ]
  },
  {
   "cell_type": "code",
   "execution_count": 158,
   "metadata": {},
   "outputs": [
    {
     "data": {
      "text/plain": [
       "50    20.5\n",
       "51    20.2\n",
       "Name: Composite, dtype: float64"
      ]
     },
     "execution_count": 158,
     "metadata": {},
     "output_type": "execute_result"
    }
   ],
   "source": [
    "df_act_2017['Composite'] = df_act_2017['Composite'].astype(str).map(lambda y: y.replace(\"x\",\" \")).astype(float)\n",
    "#df_act_2017['Composite'] = df_act_2017['Composite'].replace('x','').replace('','').astype(float)\n",
    "df_act_2017['Composite'].tail(2)"
   ]
  },
  {
   "cell_type": "markdown",
   "metadata": {},
   "source": [
    "- Finish your data modifications by making sure the columns are now typed appropriately."
   ]
  },
  {
   "cell_type": "code",
   "execution_count": 159,
   "metadata": {},
   "outputs": [
    {
     "name": "stdout",
     "output_type": "stream",
     "text": [
      "sat 2017:['State' 'Participation' 'Evidence-Based Reading and Writing' 'Math'\n",
      " 'Total']\n",
      "act 2017:['State' 'Participation' 'English' 'Math' 'Reading' 'Science' 'Composite']\n"
     ]
    }
   ],
   "source": [
    "print(f'sat 2017:{df_sat_2017.columns.values}')\n",
    "print(f'act 2017:{df_act_2017.columns.values}')"
   ]
  },
  {
   "cell_type": "markdown",
   "metadata": {},
   "source": [
    "- Display the data types again to confirm they are correct."
   ]
  },
  {
   "cell_type": "code",
   "execution_count": 160,
   "metadata": {},
   "outputs": [
    {
     "name": "stdout",
     "output_type": "stream",
     "text": [
      "State                                  object\n",
      "Participation                         float64\n",
      "Evidence-Based Reading and Writing      int64\n",
      "Math                                    int64\n",
      "Total                                   int64\n",
      "dtype: object\n"
     ]
    }
   ],
   "source": [
    "print(df_sat_2017.dtypes)    "
   ]
  },
  {
   "cell_type": "code",
   "execution_count": 161,
   "metadata": {},
   "outputs": [
    {
     "name": "stdout",
     "output_type": "stream",
     "text": [
      "State             object\n",
      "Participation    float64\n",
      "English          float64\n",
      "Math             float64\n",
      "Reading          float64\n",
      "Science          float64\n",
      "Composite        float64\n",
      "dtype: object\n"
     ]
    }
   ],
   "source": [
    "print(df_act_2017.dtypes)"
   ]
  },
  {
   "cell_type": "markdown",
   "metadata": {},
   "source": [
    "#### 7. Rename Columns\n",
    "Change the names of the columns to more expressive names so that you can tell the difference the SAT columns and the ACT columns. Your solution should map all column names being changed at once (no repeated singular name-changes). **We will be combining these data with some of the data from 2018, and so you should name columns in an appropriate way**.\n",
    "\n",
    "**Guidelines**:\n",
    "- Column names should be all lowercase (you will thank yourself when you start pushing data to SQL later in the course)\n",
    "- Column names should not contain spaces (underscores will suffice--this allows for using the `df.column_name` method to access columns in addition to `df['column_name']`.\n",
    "- Column names should be unique and informative (the only feature that we actually share between dataframes is the state)."
   ]
  },
  {
   "cell_type": "markdown",
   "metadata": {},
   "source": [
    "### rename columns"
   ]
  },
  {
   "cell_type": "code",
   "execution_count": 162,
   "metadata": {},
   "outputs": [],
   "source": [
    "column_dic_1={'State':'state',\n",
    "            'Participation':'participation_rate_sat_2017',\n",
    "            'Evidence-Based Reading and Writing':'reading_writing_sat_2017',\n",
    "            'Math':'math_sat_2017',\n",
    "            'Total':'total'}\n",
    "\n",
    "column_dic_2={'State':'state',\n",
    "              'Participation':'participation_rate_act_2017',\n",
    "              'Evidence-Based Reading and Writing':'reading_writing_act_2017',\n",
    "              'English':'english_act_2017',\n",
    "              'Math':'math_act_2017',\n",
    "              'Reading':'reading_act_2017',\n",
    "              'Science':'science_act_2017',\n",
    "              'Composite':'composite_act_2017'}\n",
    "df_sat_2017.rename(columns = column_dic_1,inplace = True)"
   ]
  },
  {
   "cell_type": "code",
   "execution_count": 163,
   "metadata": {},
   "outputs": [
    {
     "data": {
      "text/html": [
       "<div>\n",
       "<style scoped>\n",
       "    .dataframe tbody tr th:only-of-type {\n",
       "        vertical-align: middle;\n",
       "    }\n",
       "\n",
       "    .dataframe tbody tr th {\n",
       "        vertical-align: top;\n",
       "    }\n",
       "\n",
       "    .dataframe thead th {\n",
       "        text-align: right;\n",
       "    }\n",
       "</style>\n",
       "<table border=\"1\" class=\"dataframe\">\n",
       "  <thead>\n",
       "    <tr style=\"text-align: right;\">\n",
       "      <th></th>\n",
       "      <th>state</th>\n",
       "      <th>participation_rate_sat_2017</th>\n",
       "      <th>reading_writing_sat_2017</th>\n",
       "      <th>math_sat_2017</th>\n",
       "      <th>total</th>\n",
       "    </tr>\n",
       "  </thead>\n",
       "  <tbody>\n",
       "    <tr>\n",
       "      <td>0</td>\n",
       "      <td>Alabama</td>\n",
       "      <td>0.05</td>\n",
       "      <td>593</td>\n",
       "      <td>572</td>\n",
       "      <td>1165</td>\n",
       "    </tr>\n",
       "    <tr>\n",
       "      <td>1</td>\n",
       "      <td>Alaska</td>\n",
       "      <td>0.38</td>\n",
       "      <td>547</td>\n",
       "      <td>533</td>\n",
       "      <td>1080</td>\n",
       "    </tr>\n",
       "    <tr>\n",
       "      <td>2</td>\n",
       "      <td>Arizona</td>\n",
       "      <td>0.30</td>\n",
       "      <td>563</td>\n",
       "      <td>553</td>\n",
       "      <td>1116</td>\n",
       "    </tr>\n",
       "  </tbody>\n",
       "</table>\n",
       "</div>"
      ],
      "text/plain": [
       "     state  participation_rate_sat_2017  reading_writing_sat_2017  \\\n",
       "0  Alabama                         0.05                       593   \n",
       "1   Alaska                         0.38                       547   \n",
       "2  Arizona                         0.30                       563   \n",
       "\n",
       "   math_sat_2017  total  \n",
       "0            572   1165  \n",
       "1            533   1080  \n",
       "2            553   1116  "
      ]
     },
     "execution_count": 163,
     "metadata": {},
     "output_type": "execute_result"
    }
   ],
   "source": [
    "df_sat_2017.head(3)"
   ]
  },
  {
   "cell_type": "code",
   "execution_count": 164,
   "metadata": {},
   "outputs": [
    {
     "data": {
      "text/html": [
       "<div>\n",
       "<style scoped>\n",
       "    .dataframe tbody tr th:only-of-type {\n",
       "        vertical-align: middle;\n",
       "    }\n",
       "\n",
       "    .dataframe tbody tr th {\n",
       "        vertical-align: top;\n",
       "    }\n",
       "\n",
       "    .dataframe thead th {\n",
       "        text-align: right;\n",
       "    }\n",
       "</style>\n",
       "<table border=\"1\" class=\"dataframe\">\n",
       "  <thead>\n",
       "    <tr style=\"text-align: right;\">\n",
       "      <th></th>\n",
       "      <th>state</th>\n",
       "      <th>participation_rate_act_2017</th>\n",
       "      <th>english_act_2017</th>\n",
       "      <th>math_act_2017</th>\n",
       "      <th>reading_act_2017</th>\n",
       "      <th>science_act_2017</th>\n",
       "      <th>composite_act_2017</th>\n",
       "    </tr>\n",
       "  </thead>\n",
       "  <tbody>\n",
       "    <tr>\n",
       "      <td>0</td>\n",
       "      <td>National</td>\n",
       "      <td>0.60</td>\n",
       "      <td>20.3</td>\n",
       "      <td>20.7</td>\n",
       "      <td>21.4</td>\n",
       "      <td>21.0</td>\n",
       "      <td>21.0</td>\n",
       "    </tr>\n",
       "    <tr>\n",
       "      <td>1</td>\n",
       "      <td>Alabama</td>\n",
       "      <td>1.00</td>\n",
       "      <td>18.9</td>\n",
       "      <td>18.4</td>\n",
       "      <td>19.7</td>\n",
       "      <td>19.4</td>\n",
       "      <td>19.2</td>\n",
       "    </tr>\n",
       "    <tr>\n",
       "      <td>2</td>\n",
       "      <td>Alaska</td>\n",
       "      <td>0.65</td>\n",
       "      <td>18.7</td>\n",
       "      <td>19.8</td>\n",
       "      <td>20.4</td>\n",
       "      <td>19.9</td>\n",
       "      <td>19.8</td>\n",
       "    </tr>\n",
       "  </tbody>\n",
       "</table>\n",
       "</div>"
      ],
      "text/plain": [
       "      state  participation_rate_act_2017  english_act_2017  math_act_2017  \\\n",
       "0  National                         0.60              20.3           20.7   \n",
       "1   Alabama                         1.00              18.9           18.4   \n",
       "2    Alaska                         0.65              18.7           19.8   \n",
       "\n",
       "   reading_act_2017  science_act_2017  composite_act_2017  \n",
       "0              21.4              21.0                21.0  \n",
       "1              19.7              19.4                19.2  \n",
       "2              20.4              19.9                19.8  "
      ]
     },
     "execution_count": 164,
     "metadata": {},
     "output_type": "execute_result"
    }
   ],
   "source": [
    "df_act_2017.rename(columns = column_dic_2,inplace = True)\n",
    "df_act_2017.head(3)"
   ]
  },
  {
   "cell_type": "markdown",
   "metadata": {},
   "source": [
    "#### 8. Create a data dictionary\n",
    "\n",
    "Now that we've fixed our data, and given it appropriate names, let's create a [data dictionary](http://library.ucmerced.edu/node/10249). \n",
    "\n",
    "A data dictionary provides a quick overview of features/variables/columns, alongside data types and descriptions. The more descriptive you can be, the more useful this document is.\n",
    "\n",
    "Example of a Fictional Data Dictionary Entry: \n",
    "\n",
    "|Feature|Type|Dataset|Description|\n",
    "|---|---|---|---|\n",
    "|**county_pop**|*integer*|2010 census|The population of the county (units in thousands, where 2.5 represents 2500 people).| \n",
    "|**per_poverty**|*float*|2010 census|The percent of the county over the age of 18 living below the 200% of official US poverty rate (units percent to two decimal places 98.10 means 98.1%)|\n",
    "\n",
    "[Here's a quick link to a short guide for formatting markdown in Jupyter notebooks](https://jupyter-notebook.readthedocs.io/en/stable/examples/Notebook/Working%20With%20Markdown%20Cells.html).\n",
    "\n",
    "Provided is the skeleton for formatting a markdown table, with columns headers that will help you create a data dictionary to quickly summarize your data, as well as some examples. **This would be a great thing to copy and paste into your custom README for this project.**"
   ]
  },
  {
   "cell_type": "markdown",
   "metadata": {},
   "source": [
    "|Feature|Type|Dataset|Description|\n",
    "|---|---|---|---|\n",
    "|**state**|*string*|*SAT&ACT*|collection of data spread accros the united state| \n",
    "|**participation_rate**|*float*|*SAT&ACT*| represent the number of students in a  specific state who participated in the test by the number of student who were  counted to participate but did't show up.\n",
    "|**math_SAT**|*float*|SAT&ACT|The math average score of a student who to SAT at a specefic state \n",
    "|**\n"
   ]
  },
  {
   "cell_type": "markdown",
   "metadata": {},
   "source": [
    "|Feature|Type|Dataset|Description|\n",
    "|---|---|---|---|\n",
    "|column name|int/float/object|ACT/SAT|This is an example| \n"
   ]
  },
  {
   "cell_type": "markdown",
   "metadata": {},
   "source": [
    "#### 9. Drop unnecessary rows\n",
    "\n",
    "One of our dataframes contains an extra row. Identify and remove this from the dataframe."
   ]
  },
  {
   "cell_type": "code",
   "execution_count": 165,
   "metadata": {},
   "outputs": [
    {
     "data": {
      "text/html": [
       "<div>\n",
       "<style scoped>\n",
       "    .dataframe tbody tr th:only-of-type {\n",
       "        vertical-align: middle;\n",
       "    }\n",
       "\n",
       "    .dataframe tbody tr th {\n",
       "        vertical-align: top;\n",
       "    }\n",
       "\n",
       "    .dataframe thead th {\n",
       "        text-align: right;\n",
       "    }\n",
       "</style>\n",
       "<table border=\"1\" class=\"dataframe\">\n",
       "  <thead>\n",
       "    <tr style=\"text-align: right;\">\n",
       "      <th></th>\n",
       "      <th>state</th>\n",
       "      <th>participation_rate_act_2017</th>\n",
       "      <th>english_act_2017</th>\n",
       "      <th>math_act_2017</th>\n",
       "      <th>reading_act_2017</th>\n",
       "      <th>science_act_2017</th>\n",
       "      <th>composite_act_2017</th>\n",
       "    </tr>\n",
       "  </thead>\n",
       "  <tbody>\n",
       "    <tr>\n",
       "      <td>1</td>\n",
       "      <td>Alabama</td>\n",
       "      <td>1.00</td>\n",
       "      <td>18.9</td>\n",
       "      <td>18.4</td>\n",
       "      <td>19.7</td>\n",
       "      <td>19.4</td>\n",
       "      <td>19.2</td>\n",
       "    </tr>\n",
       "    <tr>\n",
       "      <td>2</td>\n",
       "      <td>Alaska</td>\n",
       "      <td>0.65</td>\n",
       "      <td>18.7</td>\n",
       "      <td>19.8</td>\n",
       "      <td>20.4</td>\n",
       "      <td>19.9</td>\n",
       "      <td>19.8</td>\n",
       "    </tr>\n",
       "    <tr>\n",
       "      <td>3</td>\n",
       "      <td>Arizona</td>\n",
       "      <td>0.62</td>\n",
       "      <td>18.6</td>\n",
       "      <td>19.8</td>\n",
       "      <td>20.1</td>\n",
       "      <td>19.8</td>\n",
       "      <td>19.7</td>\n",
       "    </tr>\n",
       "    <tr>\n",
       "      <td>4</td>\n",
       "      <td>Arkansas</td>\n",
       "      <td>1.00</td>\n",
       "      <td>18.9</td>\n",
       "      <td>19.0</td>\n",
       "      <td>19.7</td>\n",
       "      <td>19.5</td>\n",
       "      <td>19.4</td>\n",
       "    </tr>\n",
       "    <tr>\n",
       "      <td>5</td>\n",
       "      <td>California</td>\n",
       "      <td>0.31</td>\n",
       "      <td>22.5</td>\n",
       "      <td>22.7</td>\n",
       "      <td>23.1</td>\n",
       "      <td>22.2</td>\n",
       "      <td>22.8</td>\n",
       "    </tr>\n",
       "  </tbody>\n",
       "</table>\n",
       "</div>"
      ],
      "text/plain": [
       "        state  participation_rate_act_2017  english_act_2017  math_act_2017  \\\n",
       "1     Alabama                         1.00              18.9           18.4   \n",
       "2      Alaska                         0.65              18.7           19.8   \n",
       "3     Arizona                         0.62              18.6           19.8   \n",
       "4    Arkansas                         1.00              18.9           19.0   \n",
       "5  California                         0.31              22.5           22.7   \n",
       "\n",
       "   reading_act_2017  science_act_2017  composite_act_2017  \n",
       "1              19.7              19.4                19.2  \n",
       "2              20.4              19.9                19.8  \n",
       "3              20.1              19.8                19.7  \n",
       "4              19.7              19.5                19.4  \n",
       "5              23.1              22.2                22.8  "
      ]
     },
     "execution_count": 165,
     "metadata": {},
     "output_type": "execute_result"
    }
   ],
   "source": [
    "df_act_2017.drop(df_act_2017.index[0],inplace = True)\n",
    "df_act_2017.head()"
   ]
  },
  {
   "cell_type": "code",
   "execution_count": 166,
   "metadata": {},
   "outputs": [
    {
     "data": {
      "text/plain": [
       "(51, 7)"
      ]
     },
     "execution_count": 166,
     "metadata": {},
     "output_type": "execute_result"
    }
   ],
   "source": [
    "df_act_2017.shape"
   ]
  },
  {
   "cell_type": "code",
   "execution_count": 167,
   "metadata": {},
   "outputs": [
    {
     "data": {
      "text/plain": [
       "state                          51\n",
       "participation_rate_sat_2017    51\n",
       "reading_writing_sat_2017       51\n",
       "math_sat_2017                  51\n",
       "total                          51\n",
       "dtype: int64"
      ]
     },
     "execution_count": 167,
     "metadata": {},
     "output_type": "execute_result"
    }
   ],
   "source": [
    "#code\n",
    "#df_act_2017.drop(index=[0], inplace = True)\n",
    "df_sat_2017.count()"
   ]
  },
  {
   "cell_type": "code",
   "execution_count": 168,
   "metadata": {},
   "outputs": [
    {
     "data": {
      "text/plain": [
       "state                          51\n",
       "participation_rate_act_2017    51\n",
       "english_act_2017               51\n",
       "math_act_2017                  51\n",
       "reading_act_2017               51\n",
       "science_act_2017               51\n",
       "composite_act_2017             51\n",
       "dtype: int64"
      ]
     },
     "execution_count": 168,
     "metadata": {},
     "output_type": "execute_result"
    }
   ],
   "source": [
    "df_act_2017.count()"
   ]
  },
  {
   "cell_type": "markdown",
   "metadata": {},
   "source": [
    "#### 10. Merge Dataframes\n",
    "\n",
    "Join the 2017 ACT and SAT dataframes using the state in each dataframe as the key. Assign this to a new variable."
   ]
  },
  {
   "cell_type": "code",
   "execution_count": 169,
   "metadata": {},
   "outputs": [
    {
     "data": {
      "text/html": [
       "<div>\n",
       "<style scoped>\n",
       "    .dataframe tbody tr th:only-of-type {\n",
       "        vertical-align: middle;\n",
       "    }\n",
       "\n",
       "    .dataframe tbody tr th {\n",
       "        vertical-align: top;\n",
       "    }\n",
       "\n",
       "    .dataframe thead th {\n",
       "        text-align: right;\n",
       "    }\n",
       "</style>\n",
       "<table border=\"1\" class=\"dataframe\">\n",
       "  <thead>\n",
       "    <tr style=\"text-align: right;\">\n",
       "      <th></th>\n",
       "      <th>state</th>\n",
       "      <th>participation_rate_sat_2017</th>\n",
       "      <th>reading_writing_sat_2017</th>\n",
       "      <th>math_sat_2017</th>\n",
       "      <th>total</th>\n",
       "      <th>participation_rate_act_2017</th>\n",
       "      <th>english_act_2017</th>\n",
       "      <th>math_act_2017</th>\n",
       "      <th>reading_act_2017</th>\n",
       "      <th>science_act_2017</th>\n",
       "      <th>composite_act_2017</th>\n",
       "    </tr>\n",
       "  </thead>\n",
       "  <tbody>\n",
       "    <tr>\n",
       "      <td>0</td>\n",
       "      <td>Alabama</td>\n",
       "      <td>0.05</td>\n",
       "      <td>593</td>\n",
       "      <td>572</td>\n",
       "      <td>1165</td>\n",
       "      <td>1.00</td>\n",
       "      <td>18.9</td>\n",
       "      <td>18.4</td>\n",
       "      <td>19.7</td>\n",
       "      <td>19.4</td>\n",
       "      <td>19.2</td>\n",
       "    </tr>\n",
       "    <tr>\n",
       "      <td>1</td>\n",
       "      <td>Alaska</td>\n",
       "      <td>0.38</td>\n",
       "      <td>547</td>\n",
       "      <td>533</td>\n",
       "      <td>1080</td>\n",
       "      <td>0.65</td>\n",
       "      <td>18.7</td>\n",
       "      <td>19.8</td>\n",
       "      <td>20.4</td>\n",
       "      <td>19.9</td>\n",
       "      <td>19.8</td>\n",
       "    </tr>\n",
       "    <tr>\n",
       "      <td>2</td>\n",
       "      <td>Arizona</td>\n",
       "      <td>0.30</td>\n",
       "      <td>563</td>\n",
       "      <td>553</td>\n",
       "      <td>1116</td>\n",
       "      <td>0.62</td>\n",
       "      <td>18.6</td>\n",
       "      <td>19.8</td>\n",
       "      <td>20.1</td>\n",
       "      <td>19.8</td>\n",
       "      <td>19.7</td>\n",
       "    </tr>\n",
       "  </tbody>\n",
       "</table>\n",
       "</div>"
      ],
      "text/plain": [
       "     state  participation_rate_sat_2017  reading_writing_sat_2017  \\\n",
       "0  Alabama                         0.05                       593   \n",
       "1   Alaska                         0.38                       547   \n",
       "2  Arizona                         0.30                       563   \n",
       "\n",
       "   math_sat_2017  total  participation_rate_act_2017  english_act_2017  \\\n",
       "0            572   1165                         1.00              18.9   \n",
       "1            533   1080                         0.65              18.7   \n",
       "2            553   1116                         0.62              18.6   \n",
       "\n",
       "   math_act_2017  reading_act_2017  science_act_2017  composite_act_2017  \n",
       "0           18.4              19.7              19.4                19.2  \n",
       "1           19.8              20.4              19.9                19.8  \n",
       "2           19.8              20.1              19.8                19.7  "
      ]
     },
     "execution_count": 169,
     "metadata": {},
     "output_type": "execute_result"
    }
   ],
   "source": [
    "combined_2017=pd.merge(df_sat_2017,df_act_2017)\n",
    "combined_2017.head(3)"
   ]
  },
  {
   "cell_type": "code",
   "execution_count": null,
   "metadata": {},
   "outputs": [],
   "source": []
  },
  {
   "cell_type": "markdown",
   "metadata": {},
   "source": [
    "#### 11. Save your cleaned, merged dataframe\n",
    "\n",
    "Use a relative path to save out your data as `combined_2017.csv`."
   ]
  },
  {
   "cell_type": "code",
   "execution_count": 170,
   "metadata": {},
   "outputs": [],
   "source": [
    "combined_2017.to_csv('../data/combined_2017.csv') "
   ]
  },
  {
   "cell_type": "markdown",
   "metadata": {},
   "source": [
    "## 2018 Data Import and Cleaning"
   ]
  },
  {
   "cell_type": "markdown",
   "metadata": {},
   "source": [
    "Read in the `sat_2018.csv` and `act_2018.csv` files and assign them to appropriately named pandas dataframes. For the **2018 ACT Data**, only the `Composite` scores are available. Repeat the same processes to clean the 2018 data here as you were instructed in the previous sections above."
   ]
  },
  {
   "cell_type": "code",
   "execution_count": 171,
   "metadata": {},
   "outputs": [
    {
     "data": {
      "text/html": [
       "<div>\n",
       "<style scoped>\n",
       "    .dataframe tbody tr th:only-of-type {\n",
       "        vertical-align: middle;\n",
       "    }\n",
       "\n",
       "    .dataframe tbody tr th {\n",
       "        vertical-align: top;\n",
       "    }\n",
       "\n",
       "    .dataframe thead th {\n",
       "        text-align: right;\n",
       "    }\n",
       "</style>\n",
       "<table border=\"1\" class=\"dataframe\">\n",
       "  <thead>\n",
       "    <tr style=\"text-align: right;\">\n",
       "      <th></th>\n",
       "      <th>State</th>\n",
       "      <th>Participation</th>\n",
       "      <th>Evidence-Based Reading and Writing</th>\n",
       "      <th>Math</th>\n",
       "      <th>Total</th>\n",
       "    </tr>\n",
       "  </thead>\n",
       "  <tbody>\n",
       "    <tr>\n",
       "      <td>0</td>\n",
       "      <td>Alabama</td>\n",
       "      <td>6%</td>\n",
       "      <td>595</td>\n",
       "      <td>571</td>\n",
       "      <td>1166</td>\n",
       "    </tr>\n",
       "    <tr>\n",
       "      <td>1</td>\n",
       "      <td>Alaska</td>\n",
       "      <td>43%</td>\n",
       "      <td>562</td>\n",
       "      <td>544</td>\n",
       "      <td>1106</td>\n",
       "    </tr>\n",
       "  </tbody>\n",
       "</table>\n",
       "</div>"
      ],
      "text/plain": [
       "     State Participation  Evidence-Based Reading and Writing  Math  Total\n",
       "0  Alabama            6%                                 595   571   1166\n",
       "1   Alaska           43%                                 562   544   1106"
      ]
     },
     "execution_count": 171,
     "metadata": {},
     "output_type": "execute_result"
    }
   ],
   "source": [
    "df_sat_2018 = pd.read_csv('../data/sat_2018.csv')\n",
    "df_sat_2018.head(2)"
   ]
  },
  {
   "cell_type": "code",
   "execution_count": null,
   "metadata": {},
   "outputs": [],
   "source": []
  },
  {
   "cell_type": "code",
   "execution_count": 172,
   "metadata": {},
   "outputs": [
    {
     "data": {
      "text/plain": [
       "(51, 5)"
      ]
     },
     "execution_count": 172,
     "metadata": {},
     "output_type": "execute_result"
    }
   ],
   "source": [
    "df_sat_2018.shape"
   ]
  },
  {
   "cell_type": "code",
   "execution_count": 173,
   "metadata": {},
   "outputs": [
    {
     "data": {
      "text/plain": [
       "0    0.06\n",
       "1    0.43\n",
       "2    0.29\n",
       "Name: Participation, dtype: float64"
      ]
     },
     "execution_count": 173,
     "metadata": {},
     "output_type": "execute_result"
    }
   ],
   "source": [
    "def convert_data(val):\n",
    "    \n",
    "    new_val=val.replace(\"%\",\" \")\n",
    "    return (float(new_val))/100\n",
    "\n",
    "df_sat_2018['Participation']=df_sat_2018['Participation'].astype(str).map(convert_data)\n",
    "df_sat_2018['Participation'].head(3)"
   ]
  },
  {
   "cell_type": "code",
   "execution_count": null,
   "metadata": {},
   "outputs": [],
   "source": []
  },
  {
   "cell_type": "code",
   "execution_count": 174,
   "metadata": {},
   "outputs": [
    {
     "data": {
      "text/html": [
       "<div>\n",
       "<style scoped>\n",
       "    .dataframe tbody tr th:only-of-type {\n",
       "        vertical-align: middle;\n",
       "    }\n",
       "\n",
       "    .dataframe tbody tr th {\n",
       "        vertical-align: top;\n",
       "    }\n",
       "\n",
       "    .dataframe thead th {\n",
       "        text-align: right;\n",
       "    }\n",
       "</style>\n",
       "<table border=\"1\" class=\"dataframe\">\n",
       "  <thead>\n",
       "    <tr style=\"text-align: right;\">\n",
       "      <th></th>\n",
       "      <th>State</th>\n",
       "      <th>Participation</th>\n",
       "      <th>Composite</th>\n",
       "    </tr>\n",
       "  </thead>\n",
       "  <tbody>\n",
       "    <tr>\n",
       "      <td>0</td>\n",
       "      <td>Alabama</td>\n",
       "      <td>100%</td>\n",
       "      <td>19.1</td>\n",
       "    </tr>\n",
       "    <tr>\n",
       "      <td>1</td>\n",
       "      <td>Alaska</td>\n",
       "      <td>33%</td>\n",
       "      <td>20.8</td>\n",
       "    </tr>\n",
       "    <tr>\n",
       "      <td>2</td>\n",
       "      <td>Arizona</td>\n",
       "      <td>66%</td>\n",
       "      <td>19.2</td>\n",
       "    </tr>\n",
       "    <tr>\n",
       "      <td>3</td>\n",
       "      <td>Arkansas</td>\n",
       "      <td>100%</td>\n",
       "      <td>19.4</td>\n",
       "    </tr>\n",
       "    <tr>\n",
       "      <td>4</td>\n",
       "      <td>California</td>\n",
       "      <td>27%</td>\n",
       "      <td>22.7</td>\n",
       "    </tr>\n",
       "  </tbody>\n",
       "</table>\n",
       "</div>"
      ],
      "text/plain": [
       "        State Participation  Composite\n",
       "0     Alabama          100%       19.1\n",
       "1      Alaska           33%       20.8\n",
       "2     Arizona           66%       19.2\n",
       "3    Arkansas          100%       19.4\n",
       "4  California           27%       22.7"
      ]
     },
     "execution_count": 174,
     "metadata": {},
     "output_type": "execute_result"
    }
   ],
   "source": [
    "df_act_2018 = pd.read_csv('../data/act_2018.csv')\n",
    "df_act_2018.head()"
   ]
  },
  {
   "cell_type": "code",
   "execution_count": 175,
   "metadata": {},
   "outputs": [
    {
     "data": {
      "text/html": [
       "<div>\n",
       "<style scoped>\n",
       "    .dataframe tbody tr th:only-of-type {\n",
       "        vertical-align: middle;\n",
       "    }\n",
       "\n",
       "    .dataframe tbody tr th {\n",
       "        vertical-align: top;\n",
       "    }\n",
       "\n",
       "    .dataframe thead th {\n",
       "        text-align: right;\n",
       "    }\n",
       "</style>\n",
       "<table border=\"1\" class=\"dataframe\">\n",
       "  <thead>\n",
       "    <tr style=\"text-align: right;\">\n",
       "      <th></th>\n",
       "      <th>State</th>\n",
       "      <th>Participation</th>\n",
       "      <th>Composite</th>\n",
       "    </tr>\n",
       "  </thead>\n",
       "  <tbody>\n",
       "    <tr>\n",
       "      <td>0</td>\n",
       "      <td>Alabama</td>\n",
       "      <td>100%</td>\n",
       "      <td>19.1</td>\n",
       "    </tr>\n",
       "    <tr>\n",
       "      <td>1</td>\n",
       "      <td>Alaska</td>\n",
       "      <td>33%</td>\n",
       "      <td>20.8</td>\n",
       "    </tr>\n",
       "  </tbody>\n",
       "</table>\n",
       "</div>"
      ],
      "text/plain": [
       "     State Participation  Composite\n",
       "0  Alabama          100%       19.1\n",
       "1   Alaska           33%       20.8"
      ]
     },
     "execution_count": 175,
     "metadata": {},
     "output_type": "execute_result"
    }
   ],
   "source": [
    "df_act_2018.drop(df_act_2018.index[20],inplace = True)\n",
    "df_act_2018.head(2)"
   ]
  },
  {
   "cell_type": "code",
   "execution_count": 176,
   "metadata": {},
   "outputs": [
    {
     "data": {
      "text/plain": [
       "0    1.00\n",
       "1    0.33\n",
       "2    0.66\n",
       "Name: Participation, dtype: float64"
      ]
     },
     "execution_count": 176,
     "metadata": {},
     "output_type": "execute_result"
    }
   ],
   "source": [
    "def convert_data(val):\n",
    "    \n",
    "    new_val=val.replace(\"%\",\" \")\n",
    "    return (float(new_val))/100\n",
    "\n",
    "df_act_2018['Participation']=df_act_2018['Participation'].astype(str).map(convert_data)\n",
    "df_act_2018['Participation'].head(3)"
   ]
  },
  {
   "cell_type": "code",
   "execution_count": 177,
   "metadata": {},
   "outputs": [
    {
     "data": {
      "text/plain": [
       "State             object\n",
       "Participation    float64\n",
       "Composite        float64\n",
       "dtype: object"
      ]
     },
     "execution_count": 177,
     "metadata": {},
     "output_type": "execute_result"
    }
   ],
   "source": [
    "df_act_2018.dtypes"
   ]
  },
  {
   "cell_type": "markdown",
   "metadata": {},
   "source": [
    "### Colomn rename"
   ]
  },
  {
   "cell_type": "code",
   "execution_count": 178,
   "metadata": {},
   "outputs": [
    {
     "data": {
      "text/html": [
       "<div>\n",
       "<style scoped>\n",
       "    .dataframe tbody tr th:only-of-type {\n",
       "        vertical-align: middle;\n",
       "    }\n",
       "\n",
       "    .dataframe tbody tr th {\n",
       "        vertical-align: top;\n",
       "    }\n",
       "\n",
       "    .dataframe thead th {\n",
       "        text-align: right;\n",
       "    }\n",
       "</style>\n",
       "<table border=\"1\" class=\"dataframe\">\n",
       "  <thead>\n",
       "    <tr style=\"text-align: right;\">\n",
       "      <th></th>\n",
       "      <th>state</th>\n",
       "      <th>participation_rate_sat_2018</th>\n",
       "      <th>reading_wrinting_sat_2018</th>\n",
       "      <th>math_sat_2018</th>\n",
       "      <th>total</th>\n",
       "    </tr>\n",
       "  </thead>\n",
       "  <tbody>\n",
       "    <tr>\n",
       "      <td>0</td>\n",
       "      <td>Alabama</td>\n",
       "      <td>0.06</td>\n",
       "      <td>595</td>\n",
       "      <td>571</td>\n",
       "      <td>1166</td>\n",
       "    </tr>\n",
       "  </tbody>\n",
       "</table>\n",
       "</div>"
      ],
      "text/plain": [
       "     state  participation_rate_sat_2018  reading_wrinting_sat_2018  \\\n",
       "0  Alabama                         0.06                        595   \n",
       "\n",
       "   math_sat_2018  total  \n",
       "0            571   1166  "
      ]
     },
     "execution_count": 178,
     "metadata": {},
     "output_type": "execute_result"
    }
   ],
   "source": [
    "column_dic_3={'State':'state',\n",
    "            'Participation':'participation_rate_act_2018',\n",
    "            'Composite':'composite_act_2018'}\n",
    "\n",
    "column_dic_4={'State':'state',\n",
    "              'Participation':'participation_rate_sat_2018',\n",
    "              'Evidence-Based Reading and Writing':'reading_wrinting_sat_2018',\n",
    "              'Math':'math_sat_2018',\n",
    "              'Total':'total'}\n",
    "df_sat_2018.rename(columns = column_dic_4,inplace = True)\n",
    "df_sat_2018.head(1)"
   ]
  },
  {
   "cell_type": "code",
   "execution_count": 179,
   "metadata": {},
   "outputs": [
    {
     "data": {
      "text/plain": [
       "(51, 11)"
      ]
     },
     "execution_count": 179,
     "metadata": {},
     "output_type": "execute_result"
    }
   ],
   "source": [
    "combined_2017.shape"
   ]
  },
  {
   "cell_type": "code",
   "execution_count": 180,
   "metadata": {},
   "outputs": [
    {
     "data": {
      "text/html": [
       "<div>\n",
       "<style scoped>\n",
       "    .dataframe tbody tr th:only-of-type {\n",
       "        vertical-align: middle;\n",
       "    }\n",
       "\n",
       "    .dataframe tbody tr th {\n",
       "        vertical-align: top;\n",
       "    }\n",
       "\n",
       "    .dataframe thead th {\n",
       "        text-align: right;\n",
       "    }\n",
       "</style>\n",
       "<table border=\"1\" class=\"dataframe\">\n",
       "  <thead>\n",
       "    <tr style=\"text-align: right;\">\n",
       "      <th></th>\n",
       "      <th>state</th>\n",
       "      <th>participation_rate_act_2018</th>\n",
       "      <th>composite_act_2018</th>\n",
       "    </tr>\n",
       "  </thead>\n",
       "  <tbody>\n",
       "    <tr>\n",
       "      <td>0</td>\n",
       "      <td>Alabama</td>\n",
       "      <td>1.0</td>\n",
       "      <td>19.1</td>\n",
       "    </tr>\n",
       "  </tbody>\n",
       "</table>\n",
       "</div>"
      ],
      "text/plain": [
       "     state  participation_rate_act_2018  composite_act_2018\n",
       "0  Alabama                          1.0                19.1"
      ]
     },
     "execution_count": 180,
     "metadata": {},
     "output_type": "execute_result"
    }
   ],
   "source": [
    "df_act_2018.rename(columns = column_dic_3,inplace = True)\n",
    "df_act_2018.head(1)"
   ]
  },
  {
   "cell_type": "code",
   "execution_count": 181,
   "metadata": {},
   "outputs": [
    {
     "data": {
      "text/html": [
       "<div>\n",
       "<style scoped>\n",
       "    .dataframe tbody tr th:only-of-type {\n",
       "        vertical-align: middle;\n",
       "    }\n",
       "\n",
       "    .dataframe tbody tr th {\n",
       "        vertical-align: top;\n",
       "    }\n",
       "\n",
       "    .dataframe thead th {\n",
       "        text-align: right;\n",
       "    }\n",
       "</style>\n",
       "<table border=\"1\" class=\"dataframe\">\n",
       "  <thead>\n",
       "    <tr style=\"text-align: right;\">\n",
       "      <th></th>\n",
       "      <th>state</th>\n",
       "      <th>participation_rate_act_2018</th>\n",
       "      <th>composite_act_2018</th>\n",
       "      <th>participation_rate_sat_2018</th>\n",
       "      <th>reading_wrinting_sat_2018</th>\n",
       "      <th>math_sat_2018</th>\n",
       "      <th>total</th>\n",
       "    </tr>\n",
       "  </thead>\n",
       "  <tbody>\n",
       "    <tr>\n",
       "      <td>0</td>\n",
       "      <td>Alabama</td>\n",
       "      <td>1.00</td>\n",
       "      <td>19.1</td>\n",
       "      <td>0.06</td>\n",
       "      <td>595</td>\n",
       "      <td>571</td>\n",
       "      <td>1166</td>\n",
       "    </tr>\n",
       "    <tr>\n",
       "      <td>1</td>\n",
       "      <td>Alaska</td>\n",
       "      <td>0.33</td>\n",
       "      <td>20.8</td>\n",
       "      <td>0.43</td>\n",
       "      <td>562</td>\n",
       "      <td>544</td>\n",
       "      <td>1106</td>\n",
       "    </tr>\n",
       "  </tbody>\n",
       "</table>\n",
       "</div>"
      ],
      "text/plain": [
       "     state  participation_rate_act_2018  composite_act_2018  \\\n",
       "0  Alabama                         1.00                19.1   \n",
       "1   Alaska                         0.33                20.8   \n",
       "\n",
       "   participation_rate_sat_2018  reading_wrinting_sat_2018  math_sat_2018  \\\n",
       "0                         0.06                        595            571   \n",
       "1                         0.43                        562            544   \n",
       "\n",
       "   total  \n",
       "0   1166  \n",
       "1   1106  "
      ]
     },
     "execution_count": 181,
     "metadata": {},
     "output_type": "execute_result"
    }
   ],
   "source": [
    "combined_2018=pd.merge(df_act_2018,df_sat_2018)\n",
    "combined_2018.head(2)"
   ]
  },
  {
   "cell_type": "code",
   "execution_count": 182,
   "metadata": {},
   "outputs": [
    {
     "data": {
      "text/plain": [
       "state                          0\n",
       "participation_rate_sat_2017    0\n",
       "reading_writing_sat_2017       0\n",
       "math_sat_2017                  0\n",
       "total_x                        0\n",
       "participation_rate_act_2017    0\n",
       "english_act_2017               0\n",
       "math_act_2017                  0\n",
       "reading_act_2017               0\n",
       "science_act_2017               0\n",
       "composite_act_2017             0\n",
       "participation_rate_act_2018    0\n",
       "composite_act_2018             0\n",
       "participation_rate_sat_2018    0\n",
       "reading_wrinting_sat_2018      0\n",
       "math_sat_2018                  0\n",
       "total_y                        0\n",
       "dtype: int64"
      ]
     },
     "execution_count": 182,
     "metadata": {},
     "output_type": "execute_result"
    }
   ],
   "source": [
    "final.isnull().sum()"
   ]
  },
  {
   "cell_type": "code",
   "execution_count": 183,
   "metadata": {},
   "outputs": [
    {
     "data": {
      "text/plain": [
       "0.39803921568627454"
      ]
     },
     "execution_count": 183,
     "metadata": {},
     "output_type": "execute_result"
    }
   ],
   "source": [
    "df_sat_2017['participation_rate_sat_2017'].mean()"
   ]
  },
  {
   "cell_type": "code",
   "execution_count": 184,
   "metadata": {},
   "outputs": [
    {
     "data": {
      "text/plain": [
       "state                          50\n",
       "participation_rate_act_2018    50\n",
       "composite_act_2018             50\n",
       "participation_rate_sat_2018    50\n",
       "reading_wrinting_sat_2018      50\n",
       "math_sat_2018                  50\n",
       "total                          50\n",
       "dtype: int64"
      ]
     },
     "execution_count": 184,
     "metadata": {},
     "output_type": "execute_result"
    }
   ],
   "source": [
    "combined_2018.count()"
   ]
  },
  {
   "cell_type": "code",
   "execution_count": 185,
   "metadata": {},
   "outputs": [
    {
     "data": {
      "text/plain": [
       "state                          51\n",
       "participation_rate_sat_2017    51\n",
       "reading_writing_sat_2017       51\n",
       "math_sat_2017                  51\n",
       "total                          51\n",
       "participation_rate_act_2017    51\n",
       "english_act_2017               51\n",
       "math_act_2017                  51\n",
       "reading_act_2017               51\n",
       "science_act_2017               51\n",
       "composite_act_2017             51\n",
       "dtype: int64"
      ]
     },
     "execution_count": 185,
     "metadata": {},
     "output_type": "execute_result"
    }
   ],
   "source": [
    "combined_2017.count()"
   ]
  },
  {
   "cell_type": "markdown",
   "metadata": {},
   "source": [
    "#### Combine your 2017 and 2018 data into a single dataframe\n",
    "Joining on state names should work, assuming you formatted all your state names identically. Make sure none of your columns (other than state) have identical names. Do yourself a favor and decide if you're encoding participation rates as floats or integers and standardize this across your datasets.\n",
    "\n",
    "Save the contents of this merged dataframe as `final.csv`.\n",
    "\n",
    "**Use this combined dataframe for the remainder of the project**."
   ]
  },
  {
   "cell_type": "code",
   "execution_count": 186,
   "metadata": {},
   "outputs": [
    {
     "data": {
      "text/html": [
       "<div>\n",
       "<style scoped>\n",
       "    .dataframe tbody tr th:only-of-type {\n",
       "        vertical-align: middle;\n",
       "    }\n",
       "\n",
       "    .dataframe tbody tr th {\n",
       "        vertical-align: top;\n",
       "    }\n",
       "\n",
       "    .dataframe thead th {\n",
       "        text-align: right;\n",
       "    }\n",
       "</style>\n",
       "<table border=\"1\" class=\"dataframe\">\n",
       "  <thead>\n",
       "    <tr style=\"text-align: right;\">\n",
       "      <th></th>\n",
       "      <th>state</th>\n",
       "      <th>participation_rate_sat_2017</th>\n",
       "      <th>reading_writing_sat_2017</th>\n",
       "      <th>math_sat_2017</th>\n",
       "      <th>total_x</th>\n",
       "      <th>participation_rate_act_2017</th>\n",
       "      <th>english_act_2017</th>\n",
       "      <th>math_act_2017</th>\n",
       "      <th>reading_act_2017</th>\n",
       "      <th>science_act_2017</th>\n",
       "      <th>composite_act_2017</th>\n",
       "      <th>participation_rate_act_2018</th>\n",
       "      <th>composite_act_2018</th>\n",
       "      <th>participation_rate_sat_2018</th>\n",
       "      <th>reading_wrinting_sat_2018</th>\n",
       "      <th>math_sat_2018</th>\n",
       "      <th>total_y</th>\n",
       "    </tr>\n",
       "  </thead>\n",
       "  <tbody>\n",
       "    <tr>\n",
       "      <td>0</td>\n",
       "      <td>Alabama</td>\n",
       "      <td>0.05</td>\n",
       "      <td>593</td>\n",
       "      <td>572</td>\n",
       "      <td>1165</td>\n",
       "      <td>1.00</td>\n",
       "      <td>18.9</td>\n",
       "      <td>18.4</td>\n",
       "      <td>19.7</td>\n",
       "      <td>19.4</td>\n",
       "      <td>19.2</td>\n",
       "      <td>1.00</td>\n",
       "      <td>19.1</td>\n",
       "      <td>0.06</td>\n",
       "      <td>595</td>\n",
       "      <td>571</td>\n",
       "      <td>1166</td>\n",
       "    </tr>\n",
       "    <tr>\n",
       "      <td>1</td>\n",
       "      <td>Alaska</td>\n",
       "      <td>0.38</td>\n",
       "      <td>547</td>\n",
       "      <td>533</td>\n",
       "      <td>1080</td>\n",
       "      <td>0.65</td>\n",
       "      <td>18.7</td>\n",
       "      <td>19.8</td>\n",
       "      <td>20.4</td>\n",
       "      <td>19.9</td>\n",
       "      <td>19.8</td>\n",
       "      <td>0.33</td>\n",
       "      <td>20.8</td>\n",
       "      <td>0.43</td>\n",
       "      <td>562</td>\n",
       "      <td>544</td>\n",
       "      <td>1106</td>\n",
       "    </tr>\n",
       "    <tr>\n",
       "      <td>2</td>\n",
       "      <td>Arizona</td>\n",
       "      <td>0.30</td>\n",
       "      <td>563</td>\n",
       "      <td>553</td>\n",
       "      <td>1116</td>\n",
       "      <td>0.62</td>\n",
       "      <td>18.6</td>\n",
       "      <td>19.8</td>\n",
       "      <td>20.1</td>\n",
       "      <td>19.8</td>\n",
       "      <td>19.7</td>\n",
       "      <td>0.66</td>\n",
       "      <td>19.2</td>\n",
       "      <td>0.29</td>\n",
       "      <td>577</td>\n",
       "      <td>572</td>\n",
       "      <td>1149</td>\n",
       "    </tr>\n",
       "    <tr>\n",
       "      <td>3</td>\n",
       "      <td>Arkansas</td>\n",
       "      <td>0.03</td>\n",
       "      <td>614</td>\n",
       "      <td>594</td>\n",
       "      <td>1208</td>\n",
       "      <td>1.00</td>\n",
       "      <td>18.9</td>\n",
       "      <td>19.0</td>\n",
       "      <td>19.7</td>\n",
       "      <td>19.5</td>\n",
       "      <td>19.4</td>\n",
       "      <td>1.00</td>\n",
       "      <td>19.4</td>\n",
       "      <td>0.05</td>\n",
       "      <td>592</td>\n",
       "      <td>576</td>\n",
       "      <td>1169</td>\n",
       "    </tr>\n",
       "    <tr>\n",
       "      <td>4</td>\n",
       "      <td>California</td>\n",
       "      <td>0.53</td>\n",
       "      <td>531</td>\n",
       "      <td>524</td>\n",
       "      <td>1055</td>\n",
       "      <td>0.31</td>\n",
       "      <td>22.5</td>\n",
       "      <td>22.7</td>\n",
       "      <td>23.1</td>\n",
       "      <td>22.2</td>\n",
       "      <td>22.8</td>\n",
       "      <td>0.27</td>\n",
       "      <td>22.7</td>\n",
       "      <td>0.60</td>\n",
       "      <td>540</td>\n",
       "      <td>536</td>\n",
       "      <td>1076</td>\n",
       "    </tr>\n",
       "  </tbody>\n",
       "</table>\n",
       "</div>"
      ],
      "text/plain": [
       "        state  participation_rate_sat_2017  reading_writing_sat_2017  \\\n",
       "0     Alabama                         0.05                       593   \n",
       "1      Alaska                         0.38                       547   \n",
       "2     Arizona                         0.30                       563   \n",
       "3    Arkansas                         0.03                       614   \n",
       "4  California                         0.53                       531   \n",
       "\n",
       "   math_sat_2017  total_x  participation_rate_act_2017  english_act_2017  \\\n",
       "0            572     1165                         1.00              18.9   \n",
       "1            533     1080                         0.65              18.7   \n",
       "2            553     1116                         0.62              18.6   \n",
       "3            594     1208                         1.00              18.9   \n",
       "4            524     1055                         0.31              22.5   \n",
       "\n",
       "   math_act_2017  reading_act_2017  science_act_2017  composite_act_2017  \\\n",
       "0           18.4              19.7              19.4                19.2   \n",
       "1           19.8              20.4              19.9                19.8   \n",
       "2           19.8              20.1              19.8                19.7   \n",
       "3           19.0              19.7              19.5                19.4   \n",
       "4           22.7              23.1              22.2                22.8   \n",
       "\n",
       "   participation_rate_act_2018  composite_act_2018  \\\n",
       "0                         1.00                19.1   \n",
       "1                         0.33                20.8   \n",
       "2                         0.66                19.2   \n",
       "3                         1.00                19.4   \n",
       "4                         0.27                22.7   \n",
       "\n",
       "   participation_rate_sat_2018  reading_wrinting_sat_2018  math_sat_2018  \\\n",
       "0                         0.06                        595            571   \n",
       "1                         0.43                        562            544   \n",
       "2                         0.29                        577            572   \n",
       "3                         0.05                        592            576   \n",
       "4                         0.60                        540            536   \n",
       "\n",
       "   total_y  \n",
       "0     1166  \n",
       "1     1106  \n",
       "2     1149  \n",
       "3     1169  \n",
       "4     1076  "
      ]
     },
     "execution_count": 186,
     "metadata": {},
     "output_type": "execute_result"
    }
   ],
   "source": [
    "final=combined_2017. merge(combined_2018 , left_on = 'state', right_on = 'state' )#final=pd.merge(combined_2017,combined_2018, how='right')\n",
    "final.head()"
   ]
  },
  {
   "cell_type": "markdown",
   "metadata": {},
   "source": [
    "## Exploratory Data Analysis\n",
    "\n",
    "\n",
    "### Summary Statistics\n",
    "Transpose the output of pandas `describe` method to create a quick overview of each numeric feature."
   ]
  },
  {
   "cell_type": "code",
   "execution_count": 187,
   "metadata": {},
   "outputs": [
    {
     "data": {
      "text/html": [
       "<div>\n",
       "<style scoped>\n",
       "    .dataframe tbody tr th:only-of-type {\n",
       "        vertical-align: middle;\n",
       "    }\n",
       "\n",
       "    .dataframe tbody tr th {\n",
       "        vertical-align: top;\n",
       "    }\n",
       "\n",
       "    .dataframe thead th {\n",
       "        text-align: right;\n",
       "    }\n",
       "</style>\n",
       "<table border=\"1\" class=\"dataframe\">\n",
       "  <thead>\n",
       "    <tr style=\"text-align: right;\">\n",
       "      <th></th>\n",
       "      <th>count</th>\n",
       "      <th>mean</th>\n",
       "      <th>std</th>\n",
       "      <th>min</th>\n",
       "      <th>25%</th>\n",
       "      <th>50%</th>\n",
       "      <th>75%</th>\n",
       "      <th>max</th>\n",
       "    </tr>\n",
       "  </thead>\n",
       "  <tbody>\n",
       "    <tr>\n",
       "      <td>participation_rate_sat_2017</td>\n",
       "      <td>50.0</td>\n",
       "      <td>0.3860</td>\n",
       "      <td>0.345602</td>\n",
       "      <td>0.02</td>\n",
       "      <td>0.0400</td>\n",
       "      <td>0.34</td>\n",
       "      <td>0.650</td>\n",
       "      <td>1.0</td>\n",
       "    </tr>\n",
       "    <tr>\n",
       "      <td>reading_writing_sat_2017</td>\n",
       "      <td>50.0</td>\n",
       "      <td>570.8600</td>\n",
       "      <td>44.385146</td>\n",
       "      <td>503.00</td>\n",
       "      <td>535.2500</td>\n",
       "      <td>559.50</td>\n",
       "      <td>613.500</td>\n",
       "      <td>644.0</td>\n",
       "    </tr>\n",
       "    <tr>\n",
       "      <td>math_sat_2017</td>\n",
       "      <td>50.0</td>\n",
       "      <td>549.2200</td>\n",
       "      <td>84.998269</td>\n",
       "      <td>52.00</td>\n",
       "      <td>523.2500</td>\n",
       "      <td>549.50</td>\n",
       "      <td>601.000</td>\n",
       "      <td>651.0</td>\n",
       "    </tr>\n",
       "    <tr>\n",
       "      <td>total_x</td>\n",
       "      <td>50.0</td>\n",
       "      <td>1129.6200</td>\n",
       "      <td>89.913085</td>\n",
       "      <td>996.00</td>\n",
       "      <td>1057.0000</td>\n",
       "      <td>1107.50</td>\n",
       "      <td>1214.000</td>\n",
       "      <td>1295.0</td>\n",
       "    </tr>\n",
       "    <tr>\n",
       "      <td>participation_rate_act_2017</td>\n",
       "      <td>50.0</td>\n",
       "      <td>0.6592</td>\n",
       "      <td>0.321107</td>\n",
       "      <td>0.08</td>\n",
       "      <td>0.3100</td>\n",
       "      <td>0.71</td>\n",
       "      <td>1.000</td>\n",
       "      <td>1.0</td>\n",
       "    </tr>\n",
       "    <tr>\n",
       "      <td>english_act_2017</td>\n",
       "      <td>50.0</td>\n",
       "      <td>20.8620</td>\n",
       "      <td>2.324307</td>\n",
       "      <td>16.30</td>\n",
       "      <td>19.0000</td>\n",
       "      <td>20.55</td>\n",
       "      <td>23.100</td>\n",
       "      <td>25.5</td>\n",
       "    </tr>\n",
       "    <tr>\n",
       "      <td>math_act_2017</td>\n",
       "      <td>50.0</td>\n",
       "      <td>21.1360</td>\n",
       "      <td>1.973990</td>\n",
       "      <td>18.00</td>\n",
       "      <td>19.4000</td>\n",
       "      <td>20.90</td>\n",
       "      <td>23.000</td>\n",
       "      <td>25.3</td>\n",
       "    </tr>\n",
       "    <tr>\n",
       "      <td>reading_act_2017</td>\n",
       "      <td>50.0</td>\n",
       "      <td>21.9560</td>\n",
       "      <td>2.046317</td>\n",
       "      <td>18.10</td>\n",
       "      <td>20.4250</td>\n",
       "      <td>21.70</td>\n",
       "      <td>23.875</td>\n",
       "      <td>26.0</td>\n",
       "    </tr>\n",
       "    <tr>\n",
       "      <td>science_act_2017</td>\n",
       "      <td>50.0</td>\n",
       "      <td>20.9920</td>\n",
       "      <td>3.195139</td>\n",
       "      <td>2.30</td>\n",
       "      <td>19.9000</td>\n",
       "      <td>21.10</td>\n",
       "      <td>22.275</td>\n",
       "      <td>24.9</td>\n",
       "    </tr>\n",
       "    <tr>\n",
       "      <td>composite_act_2017</td>\n",
       "      <td>50.0</td>\n",
       "      <td>21.4660</td>\n",
       "      <td>2.004241</td>\n",
       "      <td>17.80</td>\n",
       "      <td>19.8000</td>\n",
       "      <td>21.40</td>\n",
       "      <td>23.400</td>\n",
       "      <td>25.5</td>\n",
       "    </tr>\n",
       "    <tr>\n",
       "      <td>participation_rate_act_2018</td>\n",
       "      <td>50.0</td>\n",
       "      <td>0.6232</td>\n",
       "      <td>0.341141</td>\n",
       "      <td>0.07</td>\n",
       "      <td>0.2775</td>\n",
       "      <td>0.66</td>\n",
       "      <td>1.000</td>\n",
       "      <td>1.0</td>\n",
       "    </tr>\n",
       "    <tr>\n",
       "      <td>composite_act_2018</td>\n",
       "      <td>50.0</td>\n",
       "      <td>21.4540</td>\n",
       "      <td>2.111312</td>\n",
       "      <td>17.70</td>\n",
       "      <td>19.9250</td>\n",
       "      <td>21.05</td>\n",
       "      <td>23.650</td>\n",
       "      <td>25.6</td>\n",
       "    </tr>\n",
       "    <tr>\n",
       "      <td>participation_rate_sat_2018</td>\n",
       "      <td>50.0</td>\n",
       "      <td>0.4482</td>\n",
       "      <td>0.370976</td>\n",
       "      <td>0.02</td>\n",
       "      <td>0.0425</td>\n",
       "      <td>0.50</td>\n",
       "      <td>0.745</td>\n",
       "      <td>1.0</td>\n",
       "    </tr>\n",
       "    <tr>\n",
       "      <td>reading_wrinting_sat_2018</td>\n",
       "      <td>50.0</td>\n",
       "      <td>565.0200</td>\n",
       "      <td>47.010416</td>\n",
       "      <td>480.00</td>\n",
       "      <td>535.0000</td>\n",
       "      <td>552.00</td>\n",
       "      <td>612.750</td>\n",
       "      <td>643.0</td>\n",
       "    </tr>\n",
       "    <tr>\n",
       "      <td>math_sat_2018</td>\n",
       "      <td>50.0</td>\n",
       "      <td>557.7600</td>\n",
       "      <td>46.987432</td>\n",
       "      <td>486.00</td>\n",
       "      <td>524.2500</td>\n",
       "      <td>545.50</td>\n",
       "      <td>594.250</td>\n",
       "      <td>655.0</td>\n",
       "    </tr>\n",
       "    <tr>\n",
       "      <td>total_y</td>\n",
       "      <td>50.0</td>\n",
       "      <td>1122.8800</td>\n",
       "      <td>92.845634</td>\n",
       "      <td>998.00</td>\n",
       "      <td>1062.2500</td>\n",
       "      <td>1098.50</td>\n",
       "      <td>1207.000</td>\n",
       "      <td>1298.0</td>\n",
       "    </tr>\n",
       "  </tbody>\n",
       "</table>\n",
       "</div>"
      ],
      "text/plain": [
       "                             count       mean        std     min        25%  \\\n",
       "participation_rate_sat_2017   50.0     0.3860   0.345602    0.02     0.0400   \n",
       "reading_writing_sat_2017      50.0   570.8600  44.385146  503.00   535.2500   \n",
       "math_sat_2017                 50.0   549.2200  84.998269   52.00   523.2500   \n",
       "total_x                       50.0  1129.6200  89.913085  996.00  1057.0000   \n",
       "participation_rate_act_2017   50.0     0.6592   0.321107    0.08     0.3100   \n",
       "english_act_2017              50.0    20.8620   2.324307   16.30    19.0000   \n",
       "math_act_2017                 50.0    21.1360   1.973990   18.00    19.4000   \n",
       "reading_act_2017              50.0    21.9560   2.046317   18.10    20.4250   \n",
       "science_act_2017              50.0    20.9920   3.195139    2.30    19.9000   \n",
       "composite_act_2017            50.0    21.4660   2.004241   17.80    19.8000   \n",
       "participation_rate_act_2018   50.0     0.6232   0.341141    0.07     0.2775   \n",
       "composite_act_2018            50.0    21.4540   2.111312   17.70    19.9250   \n",
       "participation_rate_sat_2018   50.0     0.4482   0.370976    0.02     0.0425   \n",
       "reading_wrinting_sat_2018     50.0   565.0200  47.010416  480.00   535.0000   \n",
       "math_sat_2018                 50.0   557.7600  46.987432  486.00   524.2500   \n",
       "total_y                       50.0  1122.8800  92.845634  998.00  1062.2500   \n",
       "\n",
       "                                 50%       75%     max  \n",
       "participation_rate_sat_2017     0.34     0.650     1.0  \n",
       "reading_writing_sat_2017      559.50   613.500   644.0  \n",
       "math_sat_2017                 549.50   601.000   651.0  \n",
       "total_x                      1107.50  1214.000  1295.0  \n",
       "participation_rate_act_2017     0.71     1.000     1.0  \n",
       "english_act_2017               20.55    23.100    25.5  \n",
       "math_act_2017                  20.90    23.000    25.3  \n",
       "reading_act_2017               21.70    23.875    26.0  \n",
       "science_act_2017               21.10    22.275    24.9  \n",
       "composite_act_2017             21.40    23.400    25.5  \n",
       "participation_rate_act_2018     0.66     1.000     1.0  \n",
       "composite_act_2018             21.05    23.650    25.6  \n",
       "participation_rate_sat_2018     0.50     0.745     1.0  \n",
       "reading_wrinting_sat_2018     552.00   612.750   643.0  \n",
       "math_sat_2018                 545.50   594.250   655.0  \n",
       "total_y                      1098.50  1207.000  1298.0  "
      ]
     },
     "execution_count": 187,
     "metadata": {},
     "output_type": "execute_result"
    }
   ],
   "source": [
    "#Code:\n",
    "final.describe().T"
   ]
  },
  {
   "cell_type": "markdown",
   "metadata": {},
   "source": [
    "#### Manually calculate standard deviation\n",
    "\n",
    "$$\\sigma = \\sqrt{\\frac{1}{n}\\sum_{i=1}^n(x_i - \\mu)^2}$$\n",
    "\n",
    "- Write a function to calculate standard deviation using the formula above"
   ]
  },
  {
   "cell_type": "code",
   "execution_count": 188,
   "metadata": {},
   "outputs": [
    {
     "data": {
      "text/plain": [
       "84.14399324966696"
      ]
     },
     "execution_count": 188,
     "metadata": {},
     "output_type": "execute_result"
    }
   ],
   "source": [
    "def standard_deviation(data): \n",
    "    diff=[] # set up an empty list to store the difference of the mean and the \n",
    "    u=(sum(data))/(len(data))\n",
    "    for i in range(len(data)):\n",
    "        result=(data[i]-u)**2\n",
    "        diff.append(result)\n",
    "    return ((sum(diff))/(len(diff)))**0.5\n",
    "standard_deviation(final['math_sat_2017']) # standard deviaition for math sat 2017"
   ]
  },
  {
   "cell_type": "code",
   "execution_count": null,
   "metadata": {},
   "outputs": [],
   "source": []
  },
  {
   "cell_type": "markdown",
   "metadata": {},
   "source": [
    "- Use a **dictionary comprehension** to apply your standard deviation function to each numeric column in the dataframe.  **No loops**  \n",
    "- Assign the output to variable `sd` as a dictionary where: \n",
    "    - Each column name is now a key \n",
    "    - That standard deviation of the column is the value \n",
    "     \n",
    "*Example Output :* `{'ACT_Math': 120, 'ACT_Reading': 120, ...}`"
   ]
  },
  {
   "cell_type": "code",
   "execution_count": 189,
   "metadata": {},
   "outputs": [
    {
     "data": {
      "text/plain": [
       "Index(['state', 'participation_rate_sat_2017', 'reading_writing_sat_2017',\n",
       "       'math_sat_2017', 'total_x', 'participation_rate_act_2017',\n",
       "       'english_act_2017', 'math_act_2017', 'reading_act_2017',\n",
       "       'science_act_2017', 'composite_act_2017', 'participation_rate_act_2018',\n",
       "       'composite_act_2018', 'participation_rate_sat_2018',\n",
       "       'reading_wrinting_sat_2018', 'math_sat_2018', 'total_y'],\n",
       "      dtype='object')"
      ]
     },
     "execution_count": 189,
     "metadata": {},
     "output_type": "execute_result"
    }
   ],
   "source": [
    "final.columns"
   ]
  },
  {
   "cell_type": "code",
   "execution_count": 190,
   "metadata": {},
   "outputs": [
    {
     "data": {
      "text/plain": [
       "{'participation_rate_sat_2017': 0.3421286307808805,\n",
       " 'reading_writing_sat_2017': 43.9390532442382,\n",
       " 'math_sat_2017': 84.14399324966696,\n",
       " 'total_x': 89.00941298536914,\n",
       " 'participation_rate_act_2017': 0.3178794740149165,\n",
       " 'english_act_2017': 2.3009467616613812,\n",
       " 'math_act_2017': 1.9541504548012678,\n",
       " 'reading_act_2017': 2.025750231395766,\n",
       " 'science_act_2017': 3.1630263988781375,\n",
       " 'composite_act_2017': 1.9840977798485642,\n",
       " 'participation_rate_act_2018': 0.33771254048376703,\n",
       " 'composite_act_2018': 2.090091864009809,\n",
       " 'participation_rate_sat_2018': 0.36724754594142633,\n",
       " 'reading_wrinting_sat_2018': 46.537937212558106,\n",
       " 'math_sat_2018': 46.51518461749884,\n",
       " 'total_y': 91.91248881408882}"
      ]
     },
     "execution_count": 190,
     "metadata": {},
     "output_type": "execute_result"
    }
   ],
   "source": [
    "#Code: \n",
    "std = {key :float(standard_deviation(final[key])) for key in ['participation_rate_sat_2017', 'reading_writing_sat_2017',\n",
    "       'math_sat_2017', 'total_x', 'participation_rate_act_2017',\n",
    "       'english_act_2017', 'math_act_2017', 'reading_act_2017',\n",
    "       'science_act_2017', 'composite_act_2017', 'participation_rate_act_2018',\n",
    "       'composite_act_2018', 'participation_rate_sat_2018',\n",
    "       'reading_wrinting_sat_2018', 'math_sat_2018', 'total_y']}\n",
    "std "
   ]
  },
  {
   "cell_type": "markdown",
   "metadata": {},
   "source": [
    "Do your manually calculated standard deviations match up with the output from pandas `describe`? What about numpy's `std` method?"
   ]
  },
  {
   "cell_type": "code",
   "execution_count": 191,
   "metadata": {},
   "outputs": [
    {
     "data": {
      "text/plain": [
       "84.14399324966696"
      ]
     },
     "execution_count": 191,
     "metadata": {},
     "output_type": "execute_result"
    }
   ],
   "source": [
    "std = np.std(final['math_sat_2017'])\n",
    "std"
   ]
  },
  {
   "cell_type": "markdown",
   "metadata": {},
   "source": [
    "#### Investigate trends in the data\n",
    "Using sorting and/or masking (along with the `.head` method to not print our entire dataframe), consider the following questions:\n",
    "\n",
    "- Which states have the highest and lowest participation rates for the:\n",
    "    - 2017 SAT?\n",
    "    - 2018 SAT?\n",
    "    - 2017 ACT?\n",
    "    - 2018 ACT?\n",
    "- Which states have the highest and lowest mean total/composite scores for the:\n",
    "    - 2017 SAT?\n",
    "    - 2018 SAT?\n",
    "    - 2017 ACT?\n",
    "    - 2018 ACT?\n",
    "- Do any states with 100% participation on a given test have a rate change year-to-year?\n",
    "- Do any states show have >50% participation on *both* tests either year?\n",
    "\n",
    "Based on what you've just observed, have you identified any states that you're especially interested in? **Make a note of these and state *why* you think they're interesting**.\n",
    "\n",
    "**You should comment on your findings at each step in a markdown cell below your code block**. Make sure you include at least one example of sorting your dataframe by a column, and one example of using boolean filtering (i.e., masking) to select a subset of the dataframe."
   ]
  },
  {
   "cell_type": "code",
   "execution_count": 192,
   "metadata": {},
   "outputs": [
    {
     "data": {
      "text/plain": [
       "1.0"
      ]
     },
     "execution_count": 192,
     "metadata": {},
     "output_type": "execute_result"
    }
   ],
   "source": [
    "import numpy as np\n",
    "np.max(df_sat_2017['participation_rate_sat_2017'])"
   ]
  },
  {
   "cell_type": "code",
   "execution_count": 193,
   "metadata": {},
   "outputs": [
    {
     "data": {
      "text/plain": [
       "1.0"
      ]
     },
     "execution_count": 193,
     "metadata": {},
     "output_type": "execute_result"
    }
   ],
   "source": [
    "np.max(df_sat_2018['participation_rate_sat_2018'])"
   ]
  },
  {
   "cell_type": "code",
   "execution_count": 194,
   "metadata": {},
   "outputs": [
    {
     "data": {
      "text/plain": [
       "1.0"
      ]
     },
     "execution_count": 194,
     "metadata": {},
     "output_type": "execute_result"
    }
   ],
   "source": [
    "np.max(df_act_2018['participation_rate_act_2018'])"
   ]
  },
  {
   "cell_type": "code",
   "execution_count": 195,
   "metadata": {},
   "outputs": [
    {
     "data": {
      "text/plain": [
       "1.0"
      ]
     },
     "execution_count": 195,
     "metadata": {},
     "output_type": "execute_result"
    }
   ],
   "source": [
    "np.max(df_act_2018['participation_rate_act_2018'])"
   ]
  },
  {
   "cell_type": "markdown",
   "metadata": {},
   "source": [
    "## Visualize the data\n",
    "\n",
    "There's not a magic bullet recommendation for the right number of plots to understand a given dataset, but visualizing your data is *always* a good idea. Not only does it allow you to quickly convey your findings (even if you have a non-technical audience), it will often reveal trends in your data that escaped you when you were looking only at numbers.\n",
    "\n",
    "Some recommendations on plotting:\n",
    "- Plots have titles\n",
    "- Plots have axis labels\n",
    "- Plots have appropriate tick labels\n",
    "- All text is legible in a plot\n",
    "- Plots demonstrate meaningful and valid relationships\n",
    "- Plots are interpreted to aid understanding\n",
    "\n",
    "There is such a thing as too many plots, and there are a *lot* of bad plots. You might make some! (But hopefully not with the guided prompts below)."
   ]
  },
  {
   "cell_type": "markdown",
   "metadata": {},
   "source": [
    "#### Use Seaborn's heatmap with pandas `.corr()` to visualize correlations between all numeric features\n",
    "\n",
    "Heatmaps are generally not appropriate for presentations, and should often be excluded from reports as they can be visually overwhelming. **However**, they can be extremely useful in identify relationships of potential interest (as well as identifying potential collinearity before modeling).\n",
    "\n",
    "*example*:\n",
    "```python\n",
    "sns.heatmap(df.corr())\n",
    "```\n",
    "\n",
    "Please take time to format your output, adding a title. Look through some of the additional arguments and options. (Axis labels aren't really necessary, as long as the title is informative)."
   ]
  },
  {
   "cell_type": "code",
   "execution_count": 196,
   "metadata": {},
   "outputs": [
    {
     "data": {
      "text/html": [
       "<div>\n",
       "<style scoped>\n",
       "    .dataframe tbody tr th:only-of-type {\n",
       "        vertical-align: middle;\n",
       "    }\n",
       "\n",
       "    .dataframe tbody tr th {\n",
       "        vertical-align: top;\n",
       "    }\n",
       "\n",
       "    .dataframe thead th {\n",
       "        text-align: right;\n",
       "    }\n",
       "</style>\n",
       "<table border=\"1\" class=\"dataframe\">\n",
       "  <thead>\n",
       "    <tr style=\"text-align: right;\">\n",
       "      <th></th>\n",
       "      <th>participation_rate_sat_2017</th>\n",
       "      <th>reading_writing_sat_2017</th>\n",
       "      <th>math_sat_2017</th>\n",
       "      <th>total_x</th>\n",
       "      <th>participation_rate_act_2017</th>\n",
       "      <th>english_act_2017</th>\n",
       "      <th>math_act_2017</th>\n",
       "      <th>reading_act_2017</th>\n",
       "      <th>science_act_2017</th>\n",
       "      <th>composite_act_2017</th>\n",
       "      <th>participation_rate_act_2018</th>\n",
       "      <th>composite_act_2018</th>\n",
       "      <th>participation_rate_sat_2018</th>\n",
       "      <th>reading_wrinting_sat_2018</th>\n",
       "      <th>math_sat_2018</th>\n",
       "      <th>total_y</th>\n",
       "    </tr>\n",
       "  </thead>\n",
       "  <tbody>\n",
       "    <tr>\n",
       "      <td>participation_rate_sat_2017</td>\n",
       "      <td>1.000000</td>\n",
       "      <td>-0.865797</td>\n",
       "      <td>-0.555519</td>\n",
       "      <td>-0.858530</td>\n",
       "      <td>-0.839471</td>\n",
       "      <td>0.670369</td>\n",
       "      <td>0.700665</td>\n",
       "      <td>0.691050</td>\n",
       "      <td>0.229955</td>\n",
       "      <td>0.681073</td>\n",
       "      <td>-0.791382</td>\n",
       "      <td>0.635531</td>\n",
       "      <td>0.871233</td>\n",
       "      <td>-0.649840</td>\n",
       "      <td>-0.668621</td>\n",
       "      <td>-0.667212</td>\n",
       "    </tr>\n",
       "    <tr>\n",
       "      <td>reading_writing_sat_2017</td>\n",
       "      <td>-0.865797</td>\n",
       "      <td>1.000000</td>\n",
       "      <td>0.620780</td>\n",
       "      <td>0.996394</td>\n",
       "      <td>0.710264</td>\n",
       "      <td>-0.429503</td>\n",
       "      <td>-0.464469</td>\n",
       "      <td>-0.460424</td>\n",
       "      <td>-0.110211</td>\n",
       "      <td>-0.443256</td>\n",
       "      <td>0.698174</td>\n",
       "      <td>-0.428330</td>\n",
       "      <td>-0.813847</td>\n",
       "      <td>0.805691</td>\n",
       "      <td>0.857999</td>\n",
       "      <td>0.841828</td>\n",
       "    </tr>\n",
       "    <tr>\n",
       "      <td>math_sat_2017</td>\n",
       "      <td>-0.555519</td>\n",
       "      <td>0.620780</td>\n",
       "      <td>1.000000</td>\n",
       "      <td>0.625205</td>\n",
       "      <td>0.497777</td>\n",
       "      <td>-0.327366</td>\n",
       "      <td>-0.326011</td>\n",
       "      <td>-0.346405</td>\n",
       "      <td>0.618816</td>\n",
       "      <td>-0.329851</td>\n",
       "      <td>0.460877</td>\n",
       "      <td>-0.257441</td>\n",
       "      <td>-0.517144</td>\n",
       "      <td>0.474895</td>\n",
       "      <td>0.525122</td>\n",
       "      <td>0.506192</td>\n",
       "    </tr>\n",
       "    <tr>\n",
       "      <td>total_x</td>\n",
       "      <td>-0.858530</td>\n",
       "      <td>0.996394</td>\n",
       "      <td>0.625205</td>\n",
       "      <td>1.000000</td>\n",
       "      <td>0.694816</td>\n",
       "      <td>-0.408936</td>\n",
       "      <td>-0.430754</td>\n",
       "      <td>-0.437260</td>\n",
       "      <td>-0.095955</td>\n",
       "      <td>-0.416453</td>\n",
       "      <td>0.682212</td>\n",
       "      <td>-0.401690</td>\n",
       "      <td>-0.801012</td>\n",
       "      <td>0.801404</td>\n",
       "      <td>0.868338</td>\n",
       "      <td>0.844937</td>\n",
       "    </tr>\n",
       "    <tr>\n",
       "      <td>participation_rate_act_2017</td>\n",
       "      <td>-0.839471</td>\n",
       "      <td>0.710264</td>\n",
       "      <td>0.497777</td>\n",
       "      <td>0.694816</td>\n",
       "      <td>1.000000</td>\n",
       "      <td>-0.840239</td>\n",
       "      <td>-0.857767</td>\n",
       "      <td>-0.863794</td>\n",
       "      <td>-0.293683</td>\n",
       "      <td>-0.854834</td>\n",
       "      <td>0.917604</td>\n",
       "      <td>-0.775676</td>\n",
       "      <td>-0.750275</td>\n",
       "      <td>0.508767</td>\n",
       "      <td>0.541775</td>\n",
       "      <td>0.531473</td>\n",
       "    </tr>\n",
       "    <tr>\n",
       "      <td>english_act_2017</td>\n",
       "      <td>0.670369</td>\n",
       "      <td>-0.429503</td>\n",
       "      <td>-0.327366</td>\n",
       "      <td>-0.408936</td>\n",
       "      <td>-0.840239</td>\n",
       "      <td>1.000000</td>\n",
       "      <td>0.967612</td>\n",
       "      <td>0.985451</td>\n",
       "      <td>0.391332</td>\n",
       "      <td>0.990714</td>\n",
       "      <td>-0.796772</td>\n",
       "      <td>0.935012</td>\n",
       "      <td>0.667645</td>\n",
       "      <td>-0.319264</td>\n",
       "      <td>-0.333883</td>\n",
       "      <td>-0.330748</td>\n",
       "    </tr>\n",
       "    <tr>\n",
       "      <td>math_act_2017</td>\n",
       "      <td>0.700665</td>\n",
       "      <td>-0.464469</td>\n",
       "      <td>-0.326011</td>\n",
       "      <td>-0.430754</td>\n",
       "      <td>-0.857767</td>\n",
       "      <td>0.967612</td>\n",
       "      <td>1.000000</td>\n",
       "      <td>0.979479</td>\n",
       "      <td>0.401954</td>\n",
       "      <td>0.990405</td>\n",
       "      <td>-0.811853</td>\n",
       "      <td>0.933331</td>\n",
       "      <td>0.687076</td>\n",
       "      <td>-0.332989</td>\n",
       "      <td>-0.314610</td>\n",
       "      <td>-0.327918</td>\n",
       "    </tr>\n",
       "    <tr>\n",
       "      <td>reading_act_2017</td>\n",
       "      <td>0.691050</td>\n",
       "      <td>-0.460424</td>\n",
       "      <td>-0.346405</td>\n",
       "      <td>-0.437260</td>\n",
       "      <td>-0.863794</td>\n",
       "      <td>0.985451</td>\n",
       "      <td>0.979479</td>\n",
       "      <td>1.000000</td>\n",
       "      <td>0.389239</td>\n",
       "      <td>0.994929</td>\n",
       "      <td>-0.812779</td>\n",
       "      <td>0.931973</td>\n",
       "      <td>0.668862</td>\n",
       "      <td>-0.336838</td>\n",
       "      <td>-0.344425</td>\n",
       "      <td>-0.344909</td>\n",
       "    </tr>\n",
       "    <tr>\n",
       "      <td>science_act_2017</td>\n",
       "      <td>0.229955</td>\n",
       "      <td>-0.110211</td>\n",
       "      <td>0.618816</td>\n",
       "      <td>-0.095955</td>\n",
       "      <td>-0.293683</td>\n",
       "      <td>0.391332</td>\n",
       "      <td>0.401954</td>\n",
       "      <td>0.389239</td>\n",
       "      <td>1.000000</td>\n",
       "      <td>0.397327</td>\n",
       "      <td>-0.301850</td>\n",
       "      <td>0.440784</td>\n",
       "      <td>0.233008</td>\n",
       "      <td>-0.103857</td>\n",
       "      <td>-0.091824</td>\n",
       "      <td>-0.098991</td>\n",
       "    </tr>\n",
       "    <tr>\n",
       "      <td>composite_act_2017</td>\n",
       "      <td>0.681073</td>\n",
       "      <td>-0.443256</td>\n",
       "      <td>-0.329851</td>\n",
       "      <td>-0.416453</td>\n",
       "      <td>-0.854834</td>\n",
       "      <td>0.990714</td>\n",
       "      <td>0.990405</td>\n",
       "      <td>0.994929</td>\n",
       "      <td>0.397327</td>\n",
       "      <td>1.000000</td>\n",
       "      <td>-0.807682</td>\n",
       "      <td>0.940845</td>\n",
       "      <td>0.672223</td>\n",
       "      <td>-0.326020</td>\n",
       "      <td>-0.325777</td>\n",
       "      <td>-0.330056</td>\n",
       "    </tr>\n",
       "    <tr>\n",
       "      <td>participation_rate_act_2018</td>\n",
       "      <td>-0.791382</td>\n",
       "      <td>0.698174</td>\n",
       "      <td>0.460877</td>\n",
       "      <td>0.682212</td>\n",
       "      <td>0.917604</td>\n",
       "      <td>-0.796772</td>\n",
       "      <td>-0.811853</td>\n",
       "      <td>-0.812779</td>\n",
       "      <td>-0.301850</td>\n",
       "      <td>-0.807682</td>\n",
       "      <td>1.000000</td>\n",
       "      <td>-0.861362</td>\n",
       "      <td>-0.866205</td>\n",
       "      <td>0.585268</td>\n",
       "      <td>0.627100</td>\n",
       "      <td>0.613466</td>\n",
       "    </tr>\n",
       "    <tr>\n",
       "      <td>composite_act_2018</td>\n",
       "      <td>0.635531</td>\n",
       "      <td>-0.428330</td>\n",
       "      <td>-0.257441</td>\n",
       "      <td>-0.401690</td>\n",
       "      <td>-0.775676</td>\n",
       "      <td>0.935012</td>\n",
       "      <td>0.933331</td>\n",
       "      <td>0.931973</td>\n",
       "      <td>0.440784</td>\n",
       "      <td>0.940845</td>\n",
       "      <td>-0.861362</td>\n",
       "      <td>1.000000</td>\n",
       "      <td>0.755304</td>\n",
       "      <td>-0.388297</td>\n",
       "      <td>-0.391510</td>\n",
       "      <td>-0.394874</td>\n",
       "    </tr>\n",
       "    <tr>\n",
       "      <td>participation_rate_sat_2018</td>\n",
       "      <td>0.871233</td>\n",
       "      <td>-0.813847</td>\n",
       "      <td>-0.517144</td>\n",
       "      <td>-0.801012</td>\n",
       "      <td>-0.750275</td>\n",
       "      <td>0.667645</td>\n",
       "      <td>0.687076</td>\n",
       "      <td>0.668862</td>\n",
       "      <td>0.233008</td>\n",
       "      <td>0.672223</td>\n",
       "      <td>-0.866205</td>\n",
       "      <td>0.755304</td>\n",
       "      <td>1.000000</td>\n",
       "      <td>-0.753520</td>\n",
       "      <td>-0.783665</td>\n",
       "      <td>-0.778045</td>\n",
       "    </tr>\n",
       "    <tr>\n",
       "      <td>reading_wrinting_sat_2018</td>\n",
       "      <td>-0.649840</td>\n",
       "      <td>0.805691</td>\n",
       "      <td>0.474895</td>\n",
       "      <td>0.801404</td>\n",
       "      <td>0.508767</td>\n",
       "      <td>-0.319264</td>\n",
       "      <td>-0.332989</td>\n",
       "      <td>-0.336838</td>\n",
       "      <td>-0.103857</td>\n",
       "      <td>-0.326020</td>\n",
       "      <td>0.585268</td>\n",
       "      <td>-0.388297</td>\n",
       "      <td>-0.753520</td>\n",
       "      <td>1.000000</td>\n",
       "      <td>0.952883</td>\n",
       "      <td>0.988186</td>\n",
       "    </tr>\n",
       "    <tr>\n",
       "      <td>math_sat_2018</td>\n",
       "      <td>-0.668621</td>\n",
       "      <td>0.857999</td>\n",
       "      <td>0.525122</td>\n",
       "      <td>0.868338</td>\n",
       "      <td>0.541775</td>\n",
       "      <td>-0.333883</td>\n",
       "      <td>-0.314610</td>\n",
       "      <td>-0.344425</td>\n",
       "      <td>-0.091824</td>\n",
       "      <td>-0.325777</td>\n",
       "      <td>0.627100</td>\n",
       "      <td>-0.391510</td>\n",
       "      <td>-0.783665</td>\n",
       "      <td>0.952883</td>\n",
       "      <td>1.000000</td>\n",
       "      <td>0.988096</td>\n",
       "    </tr>\n",
       "    <tr>\n",
       "      <td>total_y</td>\n",
       "      <td>-0.667212</td>\n",
       "      <td>0.841828</td>\n",
       "      <td>0.506192</td>\n",
       "      <td>0.844937</td>\n",
       "      <td>0.531473</td>\n",
       "      <td>-0.330748</td>\n",
       "      <td>-0.327918</td>\n",
       "      <td>-0.344909</td>\n",
       "      <td>-0.098991</td>\n",
       "      <td>-0.330056</td>\n",
       "      <td>0.613466</td>\n",
       "      <td>-0.394874</td>\n",
       "      <td>-0.778045</td>\n",
       "      <td>0.988186</td>\n",
       "      <td>0.988096</td>\n",
       "      <td>1.000000</td>\n",
       "    </tr>\n",
       "  </tbody>\n",
       "</table>\n",
       "</div>"
      ],
      "text/plain": [
       "                             participation_rate_sat_2017  \\\n",
       "participation_rate_sat_2017                     1.000000   \n",
       "reading_writing_sat_2017                       -0.865797   \n",
       "math_sat_2017                                  -0.555519   \n",
       "total_x                                        -0.858530   \n",
       "participation_rate_act_2017                    -0.839471   \n",
       "english_act_2017                                0.670369   \n",
       "math_act_2017                                   0.700665   \n",
       "reading_act_2017                                0.691050   \n",
       "science_act_2017                                0.229955   \n",
       "composite_act_2017                              0.681073   \n",
       "participation_rate_act_2018                    -0.791382   \n",
       "composite_act_2018                              0.635531   \n",
       "participation_rate_sat_2018                     0.871233   \n",
       "reading_wrinting_sat_2018                      -0.649840   \n",
       "math_sat_2018                                  -0.668621   \n",
       "total_y                                        -0.667212   \n",
       "\n",
       "                             reading_writing_sat_2017  math_sat_2017  \\\n",
       "participation_rate_sat_2017                 -0.865797      -0.555519   \n",
       "reading_writing_sat_2017                     1.000000       0.620780   \n",
       "math_sat_2017                                0.620780       1.000000   \n",
       "total_x                                      0.996394       0.625205   \n",
       "participation_rate_act_2017                  0.710264       0.497777   \n",
       "english_act_2017                            -0.429503      -0.327366   \n",
       "math_act_2017                               -0.464469      -0.326011   \n",
       "reading_act_2017                            -0.460424      -0.346405   \n",
       "science_act_2017                            -0.110211       0.618816   \n",
       "composite_act_2017                          -0.443256      -0.329851   \n",
       "participation_rate_act_2018                  0.698174       0.460877   \n",
       "composite_act_2018                          -0.428330      -0.257441   \n",
       "participation_rate_sat_2018                 -0.813847      -0.517144   \n",
       "reading_wrinting_sat_2018                    0.805691       0.474895   \n",
       "math_sat_2018                                0.857999       0.525122   \n",
       "total_y                                      0.841828       0.506192   \n",
       "\n",
       "                              total_x  participation_rate_act_2017  \\\n",
       "participation_rate_sat_2017 -0.858530                    -0.839471   \n",
       "reading_writing_sat_2017     0.996394                     0.710264   \n",
       "math_sat_2017                0.625205                     0.497777   \n",
       "total_x                      1.000000                     0.694816   \n",
       "participation_rate_act_2017  0.694816                     1.000000   \n",
       "english_act_2017            -0.408936                    -0.840239   \n",
       "math_act_2017               -0.430754                    -0.857767   \n",
       "reading_act_2017            -0.437260                    -0.863794   \n",
       "science_act_2017            -0.095955                    -0.293683   \n",
       "composite_act_2017          -0.416453                    -0.854834   \n",
       "participation_rate_act_2018  0.682212                     0.917604   \n",
       "composite_act_2018          -0.401690                    -0.775676   \n",
       "participation_rate_sat_2018 -0.801012                    -0.750275   \n",
       "reading_wrinting_sat_2018    0.801404                     0.508767   \n",
       "math_sat_2018                0.868338                     0.541775   \n",
       "total_y                      0.844937                     0.531473   \n",
       "\n",
       "                             english_act_2017  math_act_2017  \\\n",
       "participation_rate_sat_2017          0.670369       0.700665   \n",
       "reading_writing_sat_2017            -0.429503      -0.464469   \n",
       "math_sat_2017                       -0.327366      -0.326011   \n",
       "total_x                             -0.408936      -0.430754   \n",
       "participation_rate_act_2017         -0.840239      -0.857767   \n",
       "english_act_2017                     1.000000       0.967612   \n",
       "math_act_2017                        0.967612       1.000000   \n",
       "reading_act_2017                     0.985451       0.979479   \n",
       "science_act_2017                     0.391332       0.401954   \n",
       "composite_act_2017                   0.990714       0.990405   \n",
       "participation_rate_act_2018         -0.796772      -0.811853   \n",
       "composite_act_2018                   0.935012       0.933331   \n",
       "participation_rate_sat_2018          0.667645       0.687076   \n",
       "reading_wrinting_sat_2018           -0.319264      -0.332989   \n",
       "math_sat_2018                       -0.333883      -0.314610   \n",
       "total_y                             -0.330748      -0.327918   \n",
       "\n",
       "                             reading_act_2017  science_act_2017  \\\n",
       "participation_rate_sat_2017          0.691050          0.229955   \n",
       "reading_writing_sat_2017            -0.460424         -0.110211   \n",
       "math_sat_2017                       -0.346405          0.618816   \n",
       "total_x                             -0.437260         -0.095955   \n",
       "participation_rate_act_2017         -0.863794         -0.293683   \n",
       "english_act_2017                     0.985451          0.391332   \n",
       "math_act_2017                        0.979479          0.401954   \n",
       "reading_act_2017                     1.000000          0.389239   \n",
       "science_act_2017                     0.389239          1.000000   \n",
       "composite_act_2017                   0.994929          0.397327   \n",
       "participation_rate_act_2018         -0.812779         -0.301850   \n",
       "composite_act_2018                   0.931973          0.440784   \n",
       "participation_rate_sat_2018          0.668862          0.233008   \n",
       "reading_wrinting_sat_2018           -0.336838         -0.103857   \n",
       "math_sat_2018                       -0.344425         -0.091824   \n",
       "total_y                             -0.344909         -0.098991   \n",
       "\n",
       "                             composite_act_2017  participation_rate_act_2018  \\\n",
       "participation_rate_sat_2017            0.681073                    -0.791382   \n",
       "reading_writing_sat_2017              -0.443256                     0.698174   \n",
       "math_sat_2017                         -0.329851                     0.460877   \n",
       "total_x                               -0.416453                     0.682212   \n",
       "participation_rate_act_2017           -0.854834                     0.917604   \n",
       "english_act_2017                       0.990714                    -0.796772   \n",
       "math_act_2017                          0.990405                    -0.811853   \n",
       "reading_act_2017                       0.994929                    -0.812779   \n",
       "science_act_2017                       0.397327                    -0.301850   \n",
       "composite_act_2017                     1.000000                    -0.807682   \n",
       "participation_rate_act_2018           -0.807682                     1.000000   \n",
       "composite_act_2018                     0.940845                    -0.861362   \n",
       "participation_rate_sat_2018            0.672223                    -0.866205   \n",
       "reading_wrinting_sat_2018             -0.326020                     0.585268   \n",
       "math_sat_2018                         -0.325777                     0.627100   \n",
       "total_y                               -0.330056                     0.613466   \n",
       "\n",
       "                             composite_act_2018  participation_rate_sat_2018  \\\n",
       "participation_rate_sat_2017            0.635531                     0.871233   \n",
       "reading_writing_sat_2017              -0.428330                    -0.813847   \n",
       "math_sat_2017                         -0.257441                    -0.517144   \n",
       "total_x                               -0.401690                    -0.801012   \n",
       "participation_rate_act_2017           -0.775676                    -0.750275   \n",
       "english_act_2017                       0.935012                     0.667645   \n",
       "math_act_2017                          0.933331                     0.687076   \n",
       "reading_act_2017                       0.931973                     0.668862   \n",
       "science_act_2017                       0.440784                     0.233008   \n",
       "composite_act_2017                     0.940845                     0.672223   \n",
       "participation_rate_act_2018           -0.861362                    -0.866205   \n",
       "composite_act_2018                     1.000000                     0.755304   \n",
       "participation_rate_sat_2018            0.755304                     1.000000   \n",
       "reading_wrinting_sat_2018             -0.388297                    -0.753520   \n",
       "math_sat_2018                         -0.391510                    -0.783665   \n",
       "total_y                               -0.394874                    -0.778045   \n",
       "\n",
       "                             reading_wrinting_sat_2018  math_sat_2018  \\\n",
       "participation_rate_sat_2017                  -0.649840      -0.668621   \n",
       "reading_writing_sat_2017                      0.805691       0.857999   \n",
       "math_sat_2017                                 0.474895       0.525122   \n",
       "total_x                                       0.801404       0.868338   \n",
       "participation_rate_act_2017                   0.508767       0.541775   \n",
       "english_act_2017                             -0.319264      -0.333883   \n",
       "math_act_2017                                -0.332989      -0.314610   \n",
       "reading_act_2017                             -0.336838      -0.344425   \n",
       "science_act_2017                             -0.103857      -0.091824   \n",
       "composite_act_2017                           -0.326020      -0.325777   \n",
       "participation_rate_act_2018                   0.585268       0.627100   \n",
       "composite_act_2018                           -0.388297      -0.391510   \n",
       "participation_rate_sat_2018                  -0.753520      -0.783665   \n",
       "reading_wrinting_sat_2018                     1.000000       0.952883   \n",
       "math_sat_2018                                 0.952883       1.000000   \n",
       "total_y                                       0.988186       0.988096   \n",
       "\n",
       "                              total_y  \n",
       "participation_rate_sat_2017 -0.667212  \n",
       "reading_writing_sat_2017     0.841828  \n",
       "math_sat_2017                0.506192  \n",
       "total_x                      0.844937  \n",
       "participation_rate_act_2017  0.531473  \n",
       "english_act_2017            -0.330748  \n",
       "math_act_2017               -0.327918  \n",
       "reading_act_2017            -0.344909  \n",
       "science_act_2017            -0.098991  \n",
       "composite_act_2017          -0.330056  \n",
       "participation_rate_act_2018  0.613466  \n",
       "composite_act_2018          -0.394874  \n",
       "participation_rate_sat_2018 -0.778045  \n",
       "reading_wrinting_sat_2018    0.988186  \n",
       "math_sat_2018                0.988096  \n",
       "total_y                      1.000000  "
      ]
     },
     "execution_count": 196,
     "metadata": {},
     "output_type": "execute_result"
    }
   ],
   "source": [
    "import seaborn as sn \n",
    "final.corr()"
   ]
  },
  {
   "cell_type": "code",
   "execution_count": 197,
   "metadata": {},
   "outputs": [
    {
     "data": {
      "text/plain": [
       "<matplotlib.axes._subplots.AxesSubplot at 0x22a3d871688>"
      ]
     },
     "execution_count": 197,
     "metadata": {},
     "output_type": "execute_result"
    },
    {
     "data": {
      "image/png": "[encoded data removed]",
      "text/plain": [
       "<Figure size 1440x1440 with 2 Axes>"
      ]
     },
     "metadata": {
      "needs_background": "light"
     },
     "output_type": "display_data"
    }
   ],
   "source": [
    "plt.figure(figsize=(20,20))\n",
    "sns.heatmap(final.corr(), annot = True)"
   ]
  },
  {
   "cell_type": "markdown",
   "metadata": {},
   "source": [
    "#### Define a custom function to subplot histograms\n",
    "\n",
    "We have data for two tests for two years. We only have composite (and not subtest scores) for the 2018 ACT. We should write a function that will take the names of 2+ columns and subplot histograms. While you can use pandas plotting or Seaborn here, matplotlib gives you greater control over all aspects of your plots.\n",
    "\n",
    "[Helpful Link for Plotting Multiple Figures](https://matplotlib.org/users/pyplot_tutorial.html#working-with-multiple-figures-and-axes)\n",
    "\n",
    "Here's some starter code:"
   ]
  },
  {
   "cell_type": "code",
   "execution_count": 198,
   "metadata": {},
   "outputs": [
    {
     "data": {
      "text/plain": [
       "<Figure size 3600x3600 with 0 Axes>"
      ]
     },
     "execution_count": 198,
     "metadata": {},
     "output_type": "execute_result"
    },
    {
     "data": {
      "image/png": "[encoded data removed]",
      "text/plain": [
       "<Figure size 432x288 with 2 Axes>"
      ]
     },
     "metadata": {
      "needs_background": "light"
     },
     "output_type": "display_data"
    },
    {
     "data": {
      "text/plain": [
       "<Figure size 3600x3600 with 0 Axes>"
      ]
     },
     "metadata": {},
     "output_type": "display_data"
    }
   ],
   "source": [
    "def subplot_histograms(dataframe, list_of_columns, list_of_titles, list_of_xlabels):\n",
    "    nrows = int(np.ceil(len(list_of_columns)/2)) # Makes sure you have enough rows\n",
    "    fig, ax = plt.subplots(nrows=nrows, ncols=2) # You'll want to specify your figsize\n",
    "    ax = ax.ravel() # Ravel turns a matrix into a vector, which is easier to iterate\n",
    "    for i, column in enumerate(list_of_columns): # Gives us an index value to get into all our lists\n",
    "        ax[i].hist(dataframe[column]) # feel free to add more settings\n",
    "        # Set titles, labels, etc here for each subplot\n",
    "subplot_histograms(final,['participation_rate_sat_2017','science_act_2017'],['participation_rate_sat_2017','science_act_2017'],['participation_rate_sat_2017','science_act_2017'])\n",
    "plt.figure(figsize=(50,50))\n"
   ]
  },
  {
   "cell_type": "markdown",
   "metadata": {},
   "source": [
    "#### Plot and interpret histograms \n",
    "For each of the following:\n",
    "- Participation rates for SAT & ACT\n",
    "- Math scores for SAT & ACT\n",
    "- Reading/verbal scores for SAT & ACT"
   ]
  },
  {
   "cell_type": "code",
   "execution_count": 199,
   "metadata": {},
   "outputs": [
    {
     "data": {
      "text/plain": [
       "Text(0, 0.5, 'Frequency')"
      ]
     },
     "execution_count": 199,
     "metadata": {},
     "output_type": "execute_result"
    },
    {
     "data": {
      "image/png": "[encoded data removed]",
      "text/plain": [
       "<Figure size 432x288 with 1 Axes>"
      ]
     },
     "metadata": {
      "needs_background": "light"
     },
     "output_type": "display_data"
    }
   ],
   "source": [
    "plt.hist(df_act_2017['participation_rate_act_2017'], alpha=0.5, label='participation 2017')\n",
    "plt.hist(df_act_2018['participation_rate_act_2018'], alpha=0.5, label='participation 2018')\n",
    "plt.legend(loc='upper center')\n",
    "plt.title('comparative chat act(2017-2018)')\n",
    "plt.xlabel('Partication rate 2017-2018')\n",
    "plt.ylabel('Frequency')"
   ]
  },
  {
   "cell_type": "code",
   "execution_count": 200,
   "metadata": {},
   "outputs": [
    {
     "data": {
      "text/plain": [
       "Text(0, 0.5, 'Frequency')"
      ]
     },
     "execution_count": 200,
     "metadata": {},
     "output_type": "execute_result"
    },
    {
     "data": {
      "image/png": "[encoded data removed]",
      "text/plain": [
       "<Figure size 432x288 with 1 Axes>"
      ]
     },
     "metadata": {
      "needs_background": "light"
     },
     "output_type": "display_data"
    }
   ],
   "source": [
    "plt.hist(df_act_2017['participation_rate_act_2017'], alpha=0.5, label='participation 2017')\n",
    "plt.hist(df_act_2018['participation_rate_act_2018'], alpha=0.5, label='participation 2018')\n",
    "plt.legend(loc='upper center')\n",
    "plt.title('comparative chat act(2017-2018)')\n",
    "plt.xlabel('Partication rate 2017-2018')\n",
    "plt.ylabel('Frequency')"
   ]
  },
  {
   "cell_type": "markdown",
   "metadata": {},
   "source": [
    "#### Plot and interpret scatter plots\n",
    "\n",
    "For each of the following:\n",
    "- SAT vs. ACT math scores for 2017\n",
    "- SAT vs. ACT verbal/reading scores for 2017\n",
    "- SAT vs. ACT total/composite scores for 2017\n",
    "- Total scores for SAT 2017 vs. 2018\n",
    "- Composite scores for ACT 2017 vs. 2018\n",
    "\n",
    "Plot the two variables against each other using matplotlib or Seaborn\n",
    "\n",
    "Your plots should show:\n",
    "- Two clearly labeled axes\n",
    "- A proper title\n",
    "- Using colors and symbols that are clear and unmistakable\n",
    "\n",
    "**Feel free to write a custom function, and subplot if you'd like.** Functions save both time and space.\n"
   ]
  },
  {
   "cell_type": "code",
   "execution_count": 201,
   "metadata": {},
   "outputs": [
    {
     "data": {
      "text/plain": [
       "Text(0.5, 1.0, 'SAT & ACT Math score 2017')"
      ]
     },
     "execution_count": 201,
     "metadata": {},
     "output_type": "execute_result"
    },
    {
     "data": {
      "image/png": "[encoded data removed]",
      "text/plain": [
       "<Figure size 432x288 with 1 Axes>"
      ]
     },
     "metadata": {
      "needs_background": "light"
     },
     "output_type": "display_data"
    }
   ],
   "source": [
    "sns.scatterplot (final['math_sat_2017'],final['math_sat_2018'])\n",
    "plt.title('SAT & ACT Math score 2017')"
   ]
  },
  {
   "cell_type": "code",
   "execution_count": 202,
   "metadata": {},
   "outputs": [
    {
     "data": {
      "text/plain": [
       "Text(0.5, 1.0, 'SAT & ACT reading_writing_sat_2017')"
      ]
     },
     "execution_count": 202,
     "metadata": {},
     "output_type": "execute_result"
    },
    {
     "data": {
      "image/png": "[encoded data removed]",
      "text/plain": [
       "<Figure size 432x288 with 1 Axes>"
      ]
     },
     "metadata": {
      "needs_background": "light"
     },
     "output_type": "display_data"
    }
   ],
   "source": [
    "sns .scatterplot (final['reading_writing_sat_2017'],final['reading_writing_sat_2017'])\n",
    "plt.title('SAT & ACT reading_writing_sat_2017')"
   ]
  },
  {
   "cell_type": "code",
   "execution_count": 203,
   "metadata": {},
   "outputs": [
    {
     "data": {
      "text/plain": [
       "Text(0.5, 1.0, 'SAT & ACT total/composite')"
      ]
     },
     "execution_count": 203,
     "metadata": {},
     "output_type": "execute_result"
    },
    {
     "data": {
      "image/png": "[encoded data removed]",
      "text/plain": [
       "<Figure size 432x288 with 1 Axes>"
      ]
     },
     "metadata": {
      "needs_background": "light"
     },
     "output_type": "display_data"
    }
   ],
   "source": [
    "sns .scatterplot (final['total_x'],final['total_y'])\n",
    "plt.title('SAT & ACT total/composite')"
   ]
  },
  {
   "cell_type": "markdown",
   "metadata": {},
   "source": [
    "## the relation seems to be positive  linear between the total of act score and the total of sat score,"
   ]
  },
  {
   "cell_type": "markdown",
   "metadata": {},
   "source": [
    "#### Plot and interpret boxplots\n",
    "\n",
    "For each numeric variable in the dataframe create a boxplot using Seaborn. Boxplots demonstrate central tendency and spread in variables. In a certain sense, these are somewhat redundant with histograms, but you may be better able to identify clear outliers or differences in IQR, etc.\n",
    "\n",
    "Multiple values can be plotted to a single boxplot as long as they are of the same relative scale (meaning they have similar min/max values).\n",
    "\n",
    "Each boxplot should:\n",
    "- Only include variables of a similar scale\n",
    "- Have clear labels for each variable\n",
    "- Have appropriate titles and labels"
   ]
  },
  {
   "cell_type": "code",
   "execution_count": 204,
   "metadata": {},
   "outputs": [
    {
     "data": {
      "text/plain": [
       "Text(0.5, 1.0, ' participation sat  distribution 2017')"
      ]
     },
     "execution_count": 204,
     "metadata": {},
     "output_type": "execute_result"
    },
    {
     "data": {
      "image/png": "[encoded data removed]",
      "text/plain": [
       "<Figure size 432x288 with 1 Axes>"
      ]
     },
     "metadata": {
      "needs_background": "light"
     },
     "output_type": "display_data"
    }
   ],
   "source": [
    "sns.boxplot(final['participation_rate_sat_2017'], color='r')\n",
    "plt.title(' participation sat  distribution 2017')"
   ]
  },
  {
   "cell_type": "markdown",
   "metadata": {},
   "source": [
    "### SAT presents a different chart where the  skew is more concentrated on the left side with no significant variance for 2018. Compared to act, less student are choosing act  over sat  based on the given distribution "
   ]
  },
  {
   "cell_type": "code",
   "execution_count": 205,
   "metadata": {},
   "outputs": [
    {
     "data": {
      "text/plain": [
       "Text(0.5, 1.0, ' participation sat  distribution 2017')"
      ]
     },
     "execution_count": 205,
     "metadata": {},
     "output_type": "execute_result"
    },
    {
     "data": {
      "image/png": "[encoded data removed]",
      "text/plain": [
       "<Figure size 432x288 with 1 Axes>"
      ]
     },
     "metadata": {
      "needs_background": "light"
     },
     "output_type": "display_data"
    }
   ],
   "source": [
    "sns.boxplot(final['participation_rate_act_2017'], color='r')\n",
    "plt.title(' participation sat  distribution 2017')"
   ]
  },
  {
   "cell_type": "markdown",
   "metadata": {},
   "source": [
    "## unequal distribution of participation rate skwed on the right"
   ]
  },
  {
   "cell_type": "markdown",
   "metadata": {},
   "source": [
    "### As we can see , The frequency tends To shift on the left side of the mean while the 100% Of participation rate remains the Same in the next year \n"
   ]
  },
  {
   "cell_type": "markdown",
   "metadata": {},
   "source": [
    "#### Feel free to do additional plots below\n",
    "*(do research and choose your own chart types & variables)*\n",
    "\n",
    "Are there any additional trends or relationships you haven't explored? Was there something interesting you saw that you'd like to dive further into? It's likely that there are a few more plots you might want to generate to support your narrative and recommendations that you are building toward. **As always, make sure you're interpreting your plots as you go**."
   ]
  },
  {
   "cell_type": "markdown",
   "metadata": {},
   "source": [
    "#### (Optional): Using Tableau, create a choropleth map for each variable using a map of the US. \n",
    "\n",
    "Save this plot as an image file in an images directory, provide a relative path, and insert the image into notebook in markdown."
   ]
  },
  {
   "cell_type": "code",
   "execution_count": null,
   "metadata": {},
   "outputs": [],
   "source": []
  },
  {
   "cell_type": "markdown",
   "metadata": {},
   "source": [
    "## Outside Research"
   ]
  },
  {
   "cell_type": "markdown",
   "metadata": {},
   "source": [
    "Based upon your observations, choose **three** states that demonstrate interesting trends in their SAT and/or ACT participation rates. Spend some time doing outside research on state policies that might influence these rates, and summarize your findings below. **Feel free to go back and create new plots that highlight these states of interest**. If you bring in any outside tables or charts, make sure you are explicit about having borrowed them. If you quote any text, make sure that it renders as being quoted. (Make sure that you cite your sources -- check with you local instructor for citation preferences)."
   ]
  },
  {
   "cell_type": "markdown",
   "metadata": {},
   "source": [
    "### What Does this drop mean in terms of the number of student not taking the test  in each state across colleges in america ?? To be able to bring an adequate  response to this burning question , we have tried to study  this group of students  based on their state  of residency and socio-economic background and see who is  more likely to be found in that group.\n"
   ]
  },
  {
   "cell_type": "markdown",
   "metadata": {},
   "source": [
    "## Conclusions and Recommendations"
   ]
  },
  {
   "cell_type": "markdown",
   "metadata": {},
   "source": [
    "Based on your exploration of the data, what are you key takeaways and recommendations? Choose one state with a lower participation rate and provide a suggestion for how the College Board might increase participation amongst graduating seniors in this state. Are there additional data you desire that would better inform your investigations?"
   ]
  },
  {
   "cell_type": "markdown",
   "metadata": {},
   "source": [
    "### There is no such a thing as a standard which is designed to work out the same for everybody with different background, different socio-economic environment  and different colleges requirements. An adaptive test would be something to consider  for future improvement.\n"
   ]
  },
  {
   "cell_type": "markdown",
   "metadata": {},
   "source": [
    "## Bonus: Descriptive and Inferential Statistics"
   ]
  },
  {
   "cell_type": "markdown",
   "metadata": {},
   "source": [
    "#### Summarizing Distributions\n",
    "\n",
    "Above, we used pandas `describe` to provide quick summary statistics of our numeric columns. We also demonstrated many visual relationships.\n",
    "\n",
    "As data scientists, having a complete understanding of data is imperative prior to modeling.\n",
    "\n",
    "While we will continue to build our analytic tools, we know that measures of *central tendency*, *spread*, and *shape/skewness* provide a quick summary of distributions.\n",
    "\n",
    "For each variable in your data, summarize the underlying distributions (in words & statistics)\n",
    " - Be thorough in your verbal description of these distributions.\n",
    " - Be sure to back up these summaries with statistics."
   ]
  },
  {
   "cell_type": "markdown",
   "metadata": {},
   "source": [
    "Answers:"
   ]
  },
  {
   "cell_type": "markdown",
   "metadata": {},
   "source": [
    "#### We generally assuming that data we sample from a population will be normally distributed. Do we observe this trend?"
   ]
  },
  {
   "cell_type": "markdown",
   "metadata": {},
   "source": [
    "Answer:"
   ]
  },
  {
   "cell_type": "markdown",
   "metadata": {},
   "source": [
    "Does This Assumption Hold for:\n",
    "    - Math\n",
    "    - Reading\n",
    "    - Rates\n",
    "Explain your answers for each distribution and how you think this will affect estimates made from these data."
   ]
  },
  {
   "cell_type": "markdown",
   "metadata": {},
   "source": [
    "Answer:"
   ]
  },
  {
   "cell_type": "markdown",
   "metadata": {},
   "source": [
    "#### Estimate Limits of Data\n",
    "\n",
    "Suppose we only seek to understand the relationship between SAT and ACT participation rates in 2017. \n",
    "\n",
    "##### Does it make sense to conduct statistical inference given these data specifically? \n",
    "\n",
    "Why or why not?\n",
    "\n",
    "*(think about granularity, aggregation, the relationships between populations size & rates...consider the actually populations these data describe in answering this question)*"
   ]
  },
  {
   "cell_type": "markdown",
   "metadata": {},
   "source": [
    "Answer:"
   ]
  },
  {
   "cell_type": "markdown",
   "metadata": {},
   "source": [
    "##### Is it appropriate to compare *these* specific SAT and ACT math scores? \n",
    "\n",
    "Why or why not?"
   ]
  },
  {
   "cell_type": "markdown",
   "metadata": {},
   "source": [
    "Answer:"
   ]
  },
  {
   "cell_type": "markdown",
   "metadata": {},
   "source": [
    "#### Statistical Evaluation of Distributions \n",
    "\n",
    "**If you feel it's appropriate**, using methods we discussed in class, run hypothesis tests to compare variables of interest in our dataset. "
   ]
  }
 ],
 "metadata": {
  "anaconda-cloud": {},
  "kernelspec": {
   "display_name": "Python 3",
   "language": "python",
   "name": "python3"
  },
  "language_info": {
   "codemirror_mode": {
    "name": "ipython",
    "version": 3
   },
   "file_extension": ".py",
   "mimetype": "text/x-python",
   "name": "python",
   "nbconvert_exporter": "python",
   "pygments_lexer": "ipython3",
   "version": "3.7.4"
  }
 },
 "nbformat": 4,
 "nbformat_minor": 4
}
